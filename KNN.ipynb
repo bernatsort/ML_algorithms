{
 "cells": [
  {
   "cell_type": "markdown",
   "id": "283dca66-01a4-409e-8b28-a865f8c93507",
   "metadata": {},
   "source": [
    "Bernat Sort Rufat\n",
    "\n",
    "MD005 Sistemas Basados en el Conocimiento"
   ]
  },
  {
   "cell_type": "markdown",
   "id": "c64fd068-3d45-4c43-8f54-b6a7fce51113",
   "metadata": {},
   "source": [
    "# Ejercicio 3.4: Aprendizaje Analógico - KNN (Python)"
   ]
  },
  {
   "cell_type": "markdown",
   "id": "4f5ac622-0596-49f3-880e-b8c8473e0083",
   "metadata": {},
   "source": [
    "## Librerías "
   ]
  },
  {
   "cell_type": "code",
   "execution_count": 1,
   "id": "2f4028b6-c039-477b-a7b1-86422e9f0803",
   "metadata": {},
   "outputs": [],
   "source": [
    "from scipy.io import arff\n",
    "import pandas as pd\n",
    "import matplotlib.pyplot as plt\n",
    "import seaborn as sns\n",
    "import numpy as np\n",
    "\n",
    "from imblearn.over_sampling import SMOTE\n",
    "\n",
    "from sklearn.preprocessing import StandardScaler\n",
    "from sklearn.neighbors import KNeighborsClassifier\n",
    "from sklearn.model_selection import KFold\n",
    "from sklearn.model_selection import StratifiedKFold\n",
    "from sklearn.model_selection import train_test_split\n",
    "\n",
    "import sklearn.metrics as metrics\n",
    "from sklearn.metrics import confusion_matrix\n",
    "from sklearn.metrics import accuracy_score\n",
    "from sklearn.metrics import precision_score\n",
    "from sklearn.metrics import f1_score\n",
    "from sklearn.metrics import recall_score\n",
    "from sklearn.metrics import classification_report"
   ]
  },
  {
   "cell_type": "markdown",
   "id": "d3041079-40e6-402c-afeb-873e899b5009",
   "metadata": {},
   "source": [
    "## glass.arff"
   ]
  },
  {
   "cell_type": "code",
   "execution_count": 2,
   "id": "cfc1e089-d09f-47b0-ab87-dcdb9e652837",
   "metadata": {
    "tags": []
   },
   "outputs": [],
   "source": [
    "# cargamos el .arff file\n",
    "glass = arff.loadarff('glass.arff')\n",
    "# glass es una tupla que contiene dos elementos: un array numpy y una lista de tuplas\n",
    "# primer elemento de la tupla (el array numpy) es el que nos interesa (glass[0])"
   ]
  },
  {
   "cell_type": "code",
   "execution_count": 3,
   "id": "c73f85d2-4a2c-437d-970d-778f692df3f7",
   "metadata": {},
   "outputs": [],
   "source": [
    "# convertimos los datos a df\n",
    "glass_df = pd.DataFrame(glass[0])"
   ]
  },
  {
   "cell_type": "code",
   "execution_count": 4,
   "id": "e826e76e-1cf6-4235-afbb-19fe952bf285",
   "metadata": {},
   "outputs": [
    {
     "data": {
      "text/html": [
       "<div>\n",
       "<style scoped>\n",
       "    .dataframe tbody tr th:only-of-type {\n",
       "        vertical-align: middle;\n",
       "    }\n",
       "\n",
       "    .dataframe tbody tr th {\n",
       "        vertical-align: top;\n",
       "    }\n",
       "\n",
       "    .dataframe thead th {\n",
       "        text-align: right;\n",
       "    }\n",
       "</style>\n",
       "<table border=\"1\" class=\"dataframe\">\n",
       "  <thead>\n",
       "    <tr style=\"text-align: right;\">\n",
       "      <th></th>\n",
       "      <th>RI</th>\n",
       "      <th>Na</th>\n",
       "      <th>Mg</th>\n",
       "      <th>Al</th>\n",
       "      <th>Si</th>\n",
       "      <th>'K'</th>\n",
       "      <th>Ca</th>\n",
       "      <th>Ba</th>\n",
       "      <th>Fe</th>\n",
       "      <th>Type</th>\n",
       "    </tr>\n",
       "  </thead>\n",
       "  <tbody>\n",
       "    <tr>\n",
       "      <th>0</th>\n",
       "      <td>1.51793</td>\n",
       "      <td>12.79</td>\n",
       "      <td>3.50</td>\n",
       "      <td>1.12</td>\n",
       "      <td>73.03</td>\n",
       "      <td>0.64</td>\n",
       "      <td>8.77</td>\n",
       "      <td>0.0</td>\n",
       "      <td>0.00</td>\n",
       "      <td>b'build wind float'</td>\n",
       "    </tr>\n",
       "    <tr>\n",
       "      <th>1</th>\n",
       "      <td>1.51643</td>\n",
       "      <td>12.16</td>\n",
       "      <td>3.52</td>\n",
       "      <td>1.35</td>\n",
       "      <td>72.89</td>\n",
       "      <td>0.57</td>\n",
       "      <td>8.53</td>\n",
       "      <td>0.0</td>\n",
       "      <td>0.00</td>\n",
       "      <td>b'vehic wind float'</td>\n",
       "    </tr>\n",
       "    <tr>\n",
       "      <th>2</th>\n",
       "      <td>1.51793</td>\n",
       "      <td>13.21</td>\n",
       "      <td>3.48</td>\n",
       "      <td>1.41</td>\n",
       "      <td>72.64</td>\n",
       "      <td>0.59</td>\n",
       "      <td>8.43</td>\n",
       "      <td>0.0</td>\n",
       "      <td>0.00</td>\n",
       "      <td>b'build wind float'</td>\n",
       "    </tr>\n",
       "    <tr>\n",
       "      <th>3</th>\n",
       "      <td>1.51299</td>\n",
       "      <td>14.40</td>\n",
       "      <td>1.74</td>\n",
       "      <td>1.54</td>\n",
       "      <td>74.55</td>\n",
       "      <td>0.00</td>\n",
       "      <td>7.59</td>\n",
       "      <td>0.0</td>\n",
       "      <td>0.00</td>\n",
       "      <td>b'tableware'</td>\n",
       "    </tr>\n",
       "    <tr>\n",
       "      <th>4</th>\n",
       "      <td>1.53393</td>\n",
       "      <td>12.30</td>\n",
       "      <td>0.00</td>\n",
       "      <td>1.00</td>\n",
       "      <td>70.16</td>\n",
       "      <td>0.12</td>\n",
       "      <td>16.19</td>\n",
       "      <td>0.0</td>\n",
       "      <td>0.24</td>\n",
       "      <td>b'build wind non-float'</td>\n",
       "    </tr>\n",
       "  </tbody>\n",
       "</table>\n",
       "</div>"
      ],
      "text/plain": [
       "        RI     Na    Mg    Al     Si   'K'     Ca   Ba    Fe  \\\n",
       "0  1.51793  12.79  3.50  1.12  73.03  0.64   8.77  0.0  0.00   \n",
       "1  1.51643  12.16  3.52  1.35  72.89  0.57   8.53  0.0  0.00   \n",
       "2  1.51793  13.21  3.48  1.41  72.64  0.59   8.43  0.0  0.00   \n",
       "3  1.51299  14.40  1.74  1.54  74.55  0.00   7.59  0.0  0.00   \n",
       "4  1.53393  12.30  0.00  1.00  70.16  0.12  16.19  0.0  0.24   \n",
       "\n",
       "                      Type  \n",
       "0      b'build wind float'  \n",
       "1      b'vehic wind float'  \n",
       "2      b'build wind float'  \n",
       "3             b'tableware'  \n",
       "4  b'build wind non-float'  "
      ]
     },
     "execution_count": 4,
     "metadata": {},
     "output_type": "execute_result"
    }
   ],
   "source": [
    "# 5 primeras filas del df\n",
    "glass_df.head()"
   ]
  },
  {
   "cell_type": "code",
   "execution_count": 5,
   "id": "1a48f3ec-385d-43d2-83c0-30dbadfb3e4b",
   "metadata": {},
   "outputs": [
    {
     "data": {
      "text/plain": [
       "array([b'build wind float', b'vehic wind float', b'tableware',\n",
       "       b'build wind non-float', b'headlamps', b'containers'], dtype=object)"
      ]
     },
     "execution_count": 5,
     "metadata": {},
     "output_type": "execute_result"
    }
   ],
   "source": [
    "# nombres de las clases\n",
    "glass_df['Type'].unique()"
   ]
  },
  {
   "cell_type": "code",
   "execution_count": 6,
   "id": "32277484-44fa-49be-8006-2dabd2087121",
   "metadata": {},
   "outputs": [
    {
     "data": {
      "text/plain": [
       "array(['build_wind_float', 'vehic_wind_float', 'tableware',\n",
       "       'build_wind_non_float', 'headlamps', 'containers'], dtype=object)"
      ]
     },
     "execution_count": 6,
     "metadata": {},
     "output_type": "execute_result"
    }
   ],
   "source": [
    "# renombramos las clases para un mejor entendimiento \n",
    "glass_df['Type'].replace({b'build wind float': 'build_wind_float',\n",
    "                          b'vehic wind float': 'vehic_wind_float',\n",
    "                          b'tableware': 'tableware',\n",
    "                          b'build wind non-float': 'build_wind_non_float',\n",
    "                          b'headlamps': 'headlamps',\n",
    "                          b'containers': 'containers'}, inplace = True)\n",
    "glass_df['Type'].unique()"
   ]
  },
  {
   "cell_type": "code",
   "execution_count": 7,
   "id": "7dd46f50-084a-4190-af76-dc4c40054c0e",
   "metadata": {},
   "outputs": [],
   "source": [
    "# renombramos la columna 'K' por K\n",
    "glass_df.rename(columns={\"'K'\": 'K'}, inplace=True)"
   ]
  },
  {
   "cell_type": "code",
   "execution_count": 8,
   "id": "2355ef83-5270-4ef7-80d0-a7fcafb6941e",
   "metadata": {},
   "outputs": [
    {
     "data": {
      "text/html": [
       "<div>\n",
       "<style scoped>\n",
       "    .dataframe tbody tr th:only-of-type {\n",
       "        vertical-align: middle;\n",
       "    }\n",
       "\n",
       "    .dataframe tbody tr th {\n",
       "        vertical-align: top;\n",
       "    }\n",
       "\n",
       "    .dataframe thead th {\n",
       "        text-align: right;\n",
       "    }\n",
       "</style>\n",
       "<table border=\"1\" class=\"dataframe\">\n",
       "  <thead>\n",
       "    <tr style=\"text-align: right;\">\n",
       "      <th></th>\n",
       "      <th>RI</th>\n",
       "      <th>Na</th>\n",
       "      <th>Mg</th>\n",
       "      <th>Al</th>\n",
       "      <th>Si</th>\n",
       "      <th>K</th>\n",
       "      <th>Ca</th>\n",
       "      <th>Ba</th>\n",
       "      <th>Fe</th>\n",
       "      <th>Type</th>\n",
       "    </tr>\n",
       "  </thead>\n",
       "  <tbody>\n",
       "    <tr>\n",
       "      <th>0</th>\n",
       "      <td>1.51793</td>\n",
       "      <td>12.79</td>\n",
       "      <td>3.50</td>\n",
       "      <td>1.12</td>\n",
       "      <td>73.03</td>\n",
       "      <td>0.64</td>\n",
       "      <td>8.77</td>\n",
       "      <td>0.0</td>\n",
       "      <td>0.00</td>\n",
       "      <td>build_wind_float</td>\n",
       "    </tr>\n",
       "    <tr>\n",
       "      <th>1</th>\n",
       "      <td>1.51643</td>\n",
       "      <td>12.16</td>\n",
       "      <td>3.52</td>\n",
       "      <td>1.35</td>\n",
       "      <td>72.89</td>\n",
       "      <td>0.57</td>\n",
       "      <td>8.53</td>\n",
       "      <td>0.0</td>\n",
       "      <td>0.00</td>\n",
       "      <td>vehic_wind_float</td>\n",
       "    </tr>\n",
       "    <tr>\n",
       "      <th>2</th>\n",
       "      <td>1.51793</td>\n",
       "      <td>13.21</td>\n",
       "      <td>3.48</td>\n",
       "      <td>1.41</td>\n",
       "      <td>72.64</td>\n",
       "      <td>0.59</td>\n",
       "      <td>8.43</td>\n",
       "      <td>0.0</td>\n",
       "      <td>0.00</td>\n",
       "      <td>build_wind_float</td>\n",
       "    </tr>\n",
       "    <tr>\n",
       "      <th>3</th>\n",
       "      <td>1.51299</td>\n",
       "      <td>14.40</td>\n",
       "      <td>1.74</td>\n",
       "      <td>1.54</td>\n",
       "      <td>74.55</td>\n",
       "      <td>0.00</td>\n",
       "      <td>7.59</td>\n",
       "      <td>0.0</td>\n",
       "      <td>0.00</td>\n",
       "      <td>tableware</td>\n",
       "    </tr>\n",
       "    <tr>\n",
       "      <th>4</th>\n",
       "      <td>1.53393</td>\n",
       "      <td>12.30</td>\n",
       "      <td>0.00</td>\n",
       "      <td>1.00</td>\n",
       "      <td>70.16</td>\n",
       "      <td>0.12</td>\n",
       "      <td>16.19</td>\n",
       "      <td>0.0</td>\n",
       "      <td>0.24</td>\n",
       "      <td>build_wind_non_float</td>\n",
       "    </tr>\n",
       "  </tbody>\n",
       "</table>\n",
       "</div>"
      ],
      "text/plain": [
       "        RI     Na    Mg    Al     Si     K     Ca   Ba    Fe  \\\n",
       "0  1.51793  12.79  3.50  1.12  73.03  0.64   8.77  0.0  0.00   \n",
       "1  1.51643  12.16  3.52  1.35  72.89  0.57   8.53  0.0  0.00   \n",
       "2  1.51793  13.21  3.48  1.41  72.64  0.59   8.43  0.0  0.00   \n",
       "3  1.51299  14.40  1.74  1.54  74.55  0.00   7.59  0.0  0.00   \n",
       "4  1.53393  12.30  0.00  1.00  70.16  0.12  16.19  0.0  0.24   \n",
       "\n",
       "                   Type  \n",
       "0      build_wind_float  \n",
       "1      vehic_wind_float  \n",
       "2      build_wind_float  \n",
       "3             tableware  \n",
       "4  build_wind_non_float  "
      ]
     },
     "execution_count": 8,
     "metadata": {},
     "output_type": "execute_result"
    }
   ],
   "source": [
    "# 5 primeras filas del df correctox\n",
    "glass_df.head()"
   ]
  },
  {
   "cell_type": "code",
   "execution_count": 9,
   "id": "b8d9f7ba-0150-4747-b5ce-cccb0cc6556a",
   "metadata": {},
   "outputs": [
    {
     "name": "stdout",
     "output_type": "stream",
     "text": [
      "<class 'pandas.core.frame.DataFrame'>\n",
      "RangeIndex: 214 entries, 0 to 213\n",
      "Data columns (total 10 columns):\n",
      " #   Column  Non-Null Count  Dtype  \n",
      "---  ------  --------------  -----  \n",
      " 0   RI      214 non-null    float64\n",
      " 1   Na      214 non-null    float64\n",
      " 2   Mg      214 non-null    float64\n",
      " 3   Al      214 non-null    float64\n",
      " 4   Si      214 non-null    float64\n",
      " 5   K       214 non-null    float64\n",
      " 6   Ca      214 non-null    float64\n",
      " 7   Ba      214 non-null    float64\n",
      " 8   Fe      214 non-null    float64\n",
      " 9   Type    214 non-null    object \n",
      "dtypes: float64(9), object(1)\n",
      "memory usage: 16.8+ KB\n"
     ]
    }
   ],
   "source": [
    "# info de las columnas del df\n",
    "glass_df.info()"
   ]
  },
  {
   "cell_type": "markdown",
   "id": "a0512561-5656-4f98-8907-f511e9e191e9",
   "metadata": {},
   "source": [
    "- Observamos que el df glass_df tiene 214 filas y 10 columnas. \n",
    "- Los tipos de datos de las columnas son float64 para 9 de las columnas y object para 1 columna. \n",
    "- Los nombres de las columnas son \"RI\", \"Na\", \"Mg\", \"Al\", \"Si\", \"K\", \"Ca\", \"Ba\", \"Fe\" y \"Type\".\n",
    "- Todas las columnas tienen 214 valores no nulos, lo que significa que no hay valores perdidos (missing values) en el df.\n",
    "\n"
   ]
  },
  {
   "cell_type": "code",
   "execution_count": 10,
   "id": "cf4e7a7d-4109-48bf-b01e-412b4a7c264b",
   "metadata": {},
   "outputs": [
    {
     "data": {
      "text/html": [
       "<div>\n",
       "<style scoped>\n",
       "    .dataframe tbody tr th:only-of-type {\n",
       "        vertical-align: middle;\n",
       "    }\n",
       "\n",
       "    .dataframe tbody tr th {\n",
       "        vertical-align: top;\n",
       "    }\n",
       "\n",
       "    .dataframe thead th {\n",
       "        text-align: right;\n",
       "    }\n",
       "</style>\n",
       "<table border=\"1\" class=\"dataframe\">\n",
       "  <thead>\n",
       "    <tr style=\"text-align: right;\">\n",
       "      <th></th>\n",
       "      <th>RI</th>\n",
       "      <th>Na</th>\n",
       "      <th>Mg</th>\n",
       "      <th>Al</th>\n",
       "      <th>Si</th>\n",
       "      <th>K</th>\n",
       "      <th>Ca</th>\n",
       "      <th>Ba</th>\n",
       "      <th>Fe</th>\n",
       "    </tr>\n",
       "  </thead>\n",
       "  <tbody>\n",
       "    <tr>\n",
       "      <th>count</th>\n",
       "      <td>214.000000</td>\n",
       "      <td>214.000000</td>\n",
       "      <td>214.000000</td>\n",
       "      <td>214.000000</td>\n",
       "      <td>214.000000</td>\n",
       "      <td>214.000000</td>\n",
       "      <td>214.000000</td>\n",
       "      <td>214.000000</td>\n",
       "      <td>214.000000</td>\n",
       "    </tr>\n",
       "    <tr>\n",
       "      <th>mean</th>\n",
       "      <td>1.518365</td>\n",
       "      <td>13.407850</td>\n",
       "      <td>2.684533</td>\n",
       "      <td>1.444907</td>\n",
       "      <td>72.650935</td>\n",
       "      <td>0.497056</td>\n",
       "      <td>8.956963</td>\n",
       "      <td>0.175047</td>\n",
       "      <td>0.057009</td>\n",
       "    </tr>\n",
       "    <tr>\n",
       "      <th>std</th>\n",
       "      <td>0.003037</td>\n",
       "      <td>0.816604</td>\n",
       "      <td>1.442408</td>\n",
       "      <td>0.499270</td>\n",
       "      <td>0.774546</td>\n",
       "      <td>0.652192</td>\n",
       "      <td>1.423153</td>\n",
       "      <td>0.497219</td>\n",
       "      <td>0.097439</td>\n",
       "    </tr>\n",
       "    <tr>\n",
       "      <th>min</th>\n",
       "      <td>1.511150</td>\n",
       "      <td>10.730000</td>\n",
       "      <td>0.000000</td>\n",
       "      <td>0.290000</td>\n",
       "      <td>69.810000</td>\n",
       "      <td>0.000000</td>\n",
       "      <td>5.430000</td>\n",
       "      <td>0.000000</td>\n",
       "      <td>0.000000</td>\n",
       "    </tr>\n",
       "    <tr>\n",
       "      <th>25%</th>\n",
       "      <td>1.516522</td>\n",
       "      <td>12.907500</td>\n",
       "      <td>2.115000</td>\n",
       "      <td>1.190000</td>\n",
       "      <td>72.280000</td>\n",
       "      <td>0.122500</td>\n",
       "      <td>8.240000</td>\n",
       "      <td>0.000000</td>\n",
       "      <td>0.000000</td>\n",
       "    </tr>\n",
       "    <tr>\n",
       "      <th>50%</th>\n",
       "      <td>1.517680</td>\n",
       "      <td>13.300000</td>\n",
       "      <td>3.480000</td>\n",
       "      <td>1.360000</td>\n",
       "      <td>72.790000</td>\n",
       "      <td>0.555000</td>\n",
       "      <td>8.600000</td>\n",
       "      <td>0.000000</td>\n",
       "      <td>0.000000</td>\n",
       "    </tr>\n",
       "    <tr>\n",
       "      <th>75%</th>\n",
       "      <td>1.519157</td>\n",
       "      <td>13.825000</td>\n",
       "      <td>3.600000</td>\n",
       "      <td>1.630000</td>\n",
       "      <td>73.087500</td>\n",
       "      <td>0.610000</td>\n",
       "      <td>9.172500</td>\n",
       "      <td>0.000000</td>\n",
       "      <td>0.100000</td>\n",
       "    </tr>\n",
       "    <tr>\n",
       "      <th>max</th>\n",
       "      <td>1.533930</td>\n",
       "      <td>17.380000</td>\n",
       "      <td>4.490000</td>\n",
       "      <td>3.500000</td>\n",
       "      <td>75.410000</td>\n",
       "      <td>6.210000</td>\n",
       "      <td>16.190000</td>\n",
       "      <td>3.150000</td>\n",
       "      <td>0.510000</td>\n",
       "    </tr>\n",
       "  </tbody>\n",
       "</table>\n",
       "</div>"
      ],
      "text/plain": [
       "               RI          Na          Mg          Al          Si           K  \\\n",
       "count  214.000000  214.000000  214.000000  214.000000  214.000000  214.000000   \n",
       "mean     1.518365   13.407850    2.684533    1.444907   72.650935    0.497056   \n",
       "std      0.003037    0.816604    1.442408    0.499270    0.774546    0.652192   \n",
       "min      1.511150   10.730000    0.000000    0.290000   69.810000    0.000000   \n",
       "25%      1.516522   12.907500    2.115000    1.190000   72.280000    0.122500   \n",
       "50%      1.517680   13.300000    3.480000    1.360000   72.790000    0.555000   \n",
       "75%      1.519157   13.825000    3.600000    1.630000   73.087500    0.610000   \n",
       "max      1.533930   17.380000    4.490000    3.500000   75.410000    6.210000   \n",
       "\n",
       "               Ca          Ba          Fe  \n",
       "count  214.000000  214.000000  214.000000  \n",
       "mean     8.956963    0.175047    0.057009  \n",
       "std      1.423153    0.497219    0.097439  \n",
       "min      5.430000    0.000000    0.000000  \n",
       "25%      8.240000    0.000000    0.000000  \n",
       "50%      8.600000    0.000000    0.000000  \n",
       "75%      9.172500    0.000000    0.100000  \n",
       "max     16.190000    3.150000    0.510000  "
      ]
     },
     "execution_count": 10,
     "metadata": {},
     "output_type": "execute_result"
    }
   ],
   "source": [
    "# estadísticas descriptivas \n",
    "glass_df.describe()"
   ]
  },
  {
   "cell_type": "markdown",
   "id": "962a25ad-38cc-4720-845f-244f0d4a6844",
   "metadata": {},
   "source": [
    "El método df.describe() genera estadísticas descriptivas de un df.\n",
    "\n",
    "Obtenemos el recuento, la media, la desviación estándar, el mínimo, el primer cuartil (25%), la mediana (50%), el tercer cuartil (75%) y el máximo de cada columna.\n",
    "\n",
    "Esta información puede ser útil para comprender la distribución y el rango de valores de cada columna del df.\n",
    "\n",
    "Podemos observar, por ejemplo, que para la columna Ba, el valor mínimo es 0, lo que significa que al menos algunas de las muestras no contienen bario. Los valores del primer cuartil (25%), de la mediana (50%) y del tercer cuartil (75%) también son 0, lo que sugiere que la mayoría de las muestras contienen muy poco o nada de bario. El valor máximo es 3.15, que es relativamente pequeño en comparación con los demás componentes químicos presentes en el vidrio.\n",
    "\n",
    "Para la columna Fe, el valor mínimo es 0, lo que significa que al menos algunas muestras no contienen hierro. El primer cuartil (25%), la mediana (50%), el tercer cuartil (75%) y el valor máximo son 0, 0, 0.1 y 0.51 respectivamente. Esto sugiere que la mayoría de las muestras contienen muy poco o nada de hierro.\n",
    "\n",
    "Parece ser que el bario y el hierro son componentes relativamente raros en las muestras de vidrio, ya que la mayoría de las muestras contienen poca cantidad. "
   ]
  },
  {
   "cell_type": "markdown",
   "id": "bd06989e-c421-4ff4-a1c1-78ff8e958bbf",
   "metadata": {},
   "source": [
    "### Distribución de cada variable"
   ]
  },
  {
   "cell_type": "code",
   "execution_count": 11,
   "id": "910e880f-8b82-4c75-9c77-d9450d1558b1",
   "metadata": {},
   "outputs": [
    {
     "data": {
      "image/png": "[encoded data removed]",
      "text/plain": [
       "<Figure size 2500x1500 with 9 Axes>"
      ]
     },
     "metadata": {},
     "output_type": "display_data"
    }
   ],
   "source": [
    "# creating a figure and a 3x3 grid of subplots\n",
    "fig, axs = plt.subplots(nrows=3, ncols=3, figsize=(25, 15))\n",
    "\n",
    "# seaborn's histplot to plot histograms on the subplots\n",
    "sns.histplot(data=glass_df, x='RI', element='step', stat='density', ax=axs[0, 0])\n",
    "sns.histplot(data=glass_df, x='Na', element='step', stat='density', ax=axs[0, 1])\n",
    "sns.histplot(data=glass_df, x='Mg', element='step', stat='density', ax=axs[0, 2])\n",
    "sns.histplot(data=glass_df, x='Al', element='step', stat='density', ax=axs[1, 0])\n",
    "sns.histplot(data=glass_df, x='Si', element='step', stat='density', ax=axs[1, 1])\n",
    "sns.histplot(data=glass_df, x='K', element='step', stat='density', ax=axs[1, 2])\n",
    "sns.histplot(data=glass_df, x='Ca', element='step', stat='density', ax=axs[2, 0])\n",
    "sns.histplot(data=glass_df, x='Ba', element='step', stat='density', ax=axs[2, 1])\n",
    "sns.histplot(data=glass_df, x='Fe', element='step', stat='density', ax=axs[2, 2])\n",
    "\n",
    "# axis labels\n",
    "axs[0, 0].set(xlabel='RI', ylabel='Density')\n",
    "axs[0, 1].set(xlabel='Na', ylabel='Density')\n",
    "axs[0, 2].set(xlabel='Mg', ylabel='Density')\n",
    "axs[1, 0].set(xlabel='Al', ylabel='Density')\n",
    "axs[1, 1].set(xlabel='Si', ylabel='Density')\n",
    "axs[1, 2].set(xlabel='K', ylabel='Density')\n",
    "axs[2, 0].set(xlabel='Ca', ylabel='Density')\n",
    "axs[2, 1].set(xlabel='Ba', ylabel='Density')\n",
    "axs[2, 2].set(xlabel='Fe', ylabel='Density')\n",
    "\n",
    "# adjusting the spacing between the subplots\n",
    "plt.tight_layout()\n",
    "\n",
    "# showing the plot\n",
    "plt.show()"
   ]
  },
  {
   "cell_type": "markdown",
   "id": "8e3dc20c-c8b3-4484-a66f-6efbd1e1c740",
   "metadata": {},
   "source": [
    "- Observamos que algunas variables se distribuyen de manera normal (como RI, Na, Ca, Al y Si) mientras que otras presentan una asimetría positiva (por ejemplo, Ba, Fe y K) o negativa (por ejemplo, Mg). "
   ]
  },
  {
   "cell_type": "markdown",
   "id": "4400c6d8-1a80-45e9-87d6-eb231191df29",
   "metadata": {},
   "source": [
    "### Comprobación del desequilibrio de clases"
   ]
  },
  {
   "cell_type": "code",
   "execution_count": 11,
   "id": "b8072f34-1b81-4e1b-9120-65f562815614",
   "metadata": {},
   "outputs": [
    {
     "name": "stdout",
     "output_type": "stream",
     "text": [
      "build_wind_non_float    76\n",
      "build_wind_float        70\n",
      "headlamps               29\n",
      "vehic_wind_float        17\n",
      "containers              13\n",
      "tableware                9\n",
      "Name: Type, dtype: int64\n"
     ]
    }
   ],
   "source": [
    "# Checking data imbalance \n",
    "print(glass_df['Type'].value_counts()) # recuento de instancias de cada clase en el df"
   ]
  },
  {
   "cell_type": "code",
   "execution_count": 12,
   "id": "5a76522a-9ffc-4675-a273-84bc5edccf07",
   "metadata": {},
   "outputs": [
    {
     "data": {
      "image/png": "[encoded data removed]",
      "text/plain": [
       "<Figure size 1600x800 with 1 Axes>"
      ]
     },
     "metadata": {},
     "output_type": "display_data"
    }
   ],
   "source": [
    "plt.figure(figsize=(16,8))\n",
    "sns.countplot(x = glass_df['Type'], color = 'blue')\n",
    "plt.show()"
   ]
  },
  {
   "cell_type": "markdown",
   "id": "bf101c8a-dcea-4423-9ec7-2f528a13876b",
   "metadata": {},
   "source": [
    "- Podemos observar que hay un desequilibrio de clases.\n",
    "- Por ejemplo, vemos que la clase build_wind_non_float tiene 76 instancias, mientras que la clase tableware solo tiene 9 instancias. Esto significa que la clase build_wind_non_float tiene más de 8 veces el número de instancias que la clase tableware.\n",
    "- Este desequilibrio en el número de instancias de cada clase puede plantear problemas a la hora de entrenar y evaluar modelos de Machine Learning. Por ejemplo, un modelo que siempre predice la clase mayoritaria es probable que logre una alta accuracy, pero no será útil en la práctica, ya que no está generalizando bien."
   ]
  },
  {
   "cell_type": "markdown",
   "id": "03f50854-8152-41f1-8cfa-237a6ffa2c06",
   "metadata": {
    "tags": []
   },
   "source": [
    "### Separar las variables independientes de la variable dependiente\n",
    "- Separar en atributos (X) y etiquetas (y).\n",
    "- Las columnas del conjunto de datos se pueden separar en feature columns (X) y target column (y)."
   ]
  },
  {
   "cell_type": "code",
   "execution_count": 14,
   "id": "3db88349-b4e4-4083-b72f-0b4bd04921ee",
   "metadata": {},
   "outputs": [],
   "source": [
    "# variables independientes (feature columns): las variables que se utilizan para predecir la variable objetivo (y)\n",
    "X = glass_df.iloc[:, :-1].values\n",
    "# variable dependiente (target column): en nuestro caso 'Type'\n",
    "y = glass_df.iloc[:, -1].values"
   ]
  },
  {
   "cell_type": "markdown",
   "id": "219b2e77-f779-48fd-a3e6-e260b613cef7",
   "metadata": {},
   "source": [
    "### Oversampling con SMOTE "
   ]
  },
  {
   "cell_type": "markdown",
   "id": "f21b7404-de9c-4c1d-955c-f7107d8ae1b1",
   "metadata": {},
   "source": [
    "- Al tratarse de datos desequilibrados, nuestro modelo podría intentar ajustarse a la clase mayoritaria y proporcionar una predicción sesgada, además de ofrecer una accuracy engañosa.\n",
    "- Por este motivo, realizaremos un procedimiento de sobremuestreo en las clases minoritarias con SMOTE."
   ]
  },
  {
   "cell_type": "code",
   "execution_count": 15,
   "id": "8f200b85-0916-4946-b58a-df68fd5db687",
   "metadata": {},
   "outputs": [],
   "source": [
    "SMOTE = SMOTE()\n",
    "X_o, y_o = SMOTE.fit_resample(X,y)"
   ]
  },
  {
   "cell_type": "code",
   "execution_count": 16,
   "id": "05648163-f089-4cc8-88c6-5f88b7d11135",
   "metadata": {},
   "outputs": [
    {
     "data": {
      "text/plain": [
       "build_wind_float        76\n",
       "build_wind_non_float    76\n",
       "containers              76\n",
       "headlamps               76\n",
       "tableware               76\n",
       "vehic_wind_float        76\n",
       "dtype: int64"
      ]
     },
     "execution_count": 16,
     "metadata": {},
     "output_type": "execute_result"
    }
   ],
   "source": [
    "# miramos el resultado de sobremuestro\n",
    "y1 = pd.DataFrame(y_o)\n",
    "y1.value_counts()"
   ]
  },
  {
   "cell_type": "code",
   "execution_count": 17,
   "id": "4642a836-fcaa-4904-b433-0b0121954766",
   "metadata": {},
   "outputs": [
    {
     "data": {
      "image/png": "[encoded data removed]",
      "text/plain": [
       "<Figure size 2000x500 with 2 Axes>"
      ]
     },
     "metadata": {},
     "output_type": "display_data"
    }
   ],
   "source": [
    "figure, axes = plt.subplots(1, 2, sharex=True,figsize=(20, 5))\n",
    "figure.suptitle('over sampling')\n",
    "axes[0].set_title('antes del oversampling')\n",
    "axes[1].set_title('después del oversampling')\n",
    "sns.countplot(x = y, color = 'blue',ax=axes[0])\n",
    "sns.countplot(x = y_o, color = 'blue',ax=axes[1])\n",
    "plt.show()"
   ]
  },
  {
   "cell_type": "markdown",
   "id": "e942d8ec-663d-4e06-81bf-41a67c3bb088",
   "metadata": {},
   "source": [
    "- Hemos incrementa de forma “sintética” los ejemplos de la clase minoritaria.\n",
    "- Podemos observar que ya no hay un desequilibrio de clases, las clases están balanceadas."
   ]
  },
  {
   "cell_type": "markdown",
   "id": "e967d813-8b49-4f20-8293-9132bb7bfcb7",
   "metadata": {
    "tags": []
   },
   "source": [
    "### Escalar los atributos"
   ]
  },
  {
   "cell_type": "markdown",
   "id": "1eeb4f4a-733b-49c6-beef-61b85294bc73",
   "metadata": {},
   "source": [
    "- Escalamos los datos después de aplicar SMOTE ya que después de sobremuestrear los datos, la varianza de los datos aumentará artificialmente, por lo que el escalado puede ayudar a solucionar este problema. Además, tras el sobremuestreo, la distancia entre las features de la muestra sintética se acercará más a los datos originales, lo que puede ser beneficioso para algoritmos basados en la distancia como el KNN."
   ]
  },
  {
   "cell_type": "code",
   "execution_count": 26,
   "id": "59e0b597-8510-497b-b4e5-4f9d6b10b86b",
   "metadata": {},
   "outputs": [],
   "source": [
    "scaler = StandardScaler()\n",
    "scaler.fit(X_o)\n",
    "\n",
    "X_scaled = scaler.transform(X_o)"
   ]
  },
  {
   "cell_type": "markdown",
   "id": "2dce18d5-55d2-48e1-bbf7-b299479a8b63",
   "metadata": {},
   "source": [
    "- Escalamos para que el algoritmo le dé la misma importancia a todos los datos.\n",
    "- Algoritmos como KNN se basan en la distancia entre los puntos de datos, por lo que es importante que las features estén en la misma escala.\n",
    "- El resultado es un nuevo conjunto de valores que tienen una distribución normal estándar (una distribución gaussiana con una media de 0 y una desviación estándar de 1).\n",
    "- Ahora los tenemos todos dentro de un mismo rango o intervalo.\n",
    "- La variable X_scaled contiene la versión estandarizada de la feature data almacenada en X_o."
   ]
  },
  {
   "cell_type": "markdown",
   "id": "ce2aeb0f-4763-4483-a234-e1cf78b85137",
   "metadata": {},
   "source": [
    "### Algoritmo KNN"
   ]
  },
  {
   "cell_type": "markdown",
   "id": "2d5a9b30-b58a-425b-b2c7-40b43b79dc9e",
   "metadata": {},
   "source": [
    "#### Para k=2"
   ]
  },
  {
   "cell_type": "markdown",
   "id": "d635fe04-ef39-44e8-b5a2-e9e96c851725",
   "metadata": {
    "tags": []
   },
   "source": [
    "##### Preparación algoritmo KNN\n"
   ]
  },
  {
   "cell_type": "code",
   "execution_count": 27,
   "id": "9768a316-86f1-4ee3-8678-252f933d14b4",
   "metadata": {
    "tags": []
   },
   "outputs": [],
   "source": [
    "knn_2 = KNeighborsClassifier(n_neighbors = 2)\n",
    "\n",
    "# 10-Fold Stratified Cross-Validation \n",
    "skf = StratifiedKFold(n_splits=10, random_state=None, shuffle=False)\n",
    "# random_state = None: el generador de números aleatorios utilizará un valor de semilla diferente \n",
    "    # cada vez que se ejecute el código, lo que resultará en un barajado diferente de los datos cada vez.\n",
    "# shuffle=False: los datos se utilizan en el orden del conjunto de datos de entrada y no se barajan.\n",
    "\n",
    "\n",
    "## Arrays para almacenar los resultados de cada iteración\n",
    "cm_list = []\n",
    "accu_list = []\n",
    "prec_list = []\n",
    "recall_list = []\n",
    "f1_list = []"
   ]
  },
  {
   "cell_type": "markdown",
   "id": "f1178c37-96e3-484c-9b71-6c9dd8c52f5e",
   "metadata": {},
   "source": [
    "- Cuando random_state se establece en None y el parámetro shuffle es False, los datos siempre se dividen tal cual, sin barajar ni aleatorizar los datos. Esto significa que las observaciones se utilizan en el orden del conjunto de datos de entrada.\n",
    "- Por tanto, en este caso, cuando random_state=None y shuffle=False, significa que no hay aleatorización al crear los pliegues (folds), los datos no se barajan y las observaciones se utilizan en el orden del conjunto de datos de entrada. El resultado será el mismo cada vez que se ejecute el código.\n",
    "- Esto puede ser útil queremos comparar los resultados del modelo bajo diferentes condiciones, o si queremos asegurar la reproducibilidad de los resultados (queremos que utilice la misma división cada vez que se ejecute el código).\n",
    "- No obstante, dejando de lado el ejercicio, es bueno que vaya cambiando, ya que si vemos que el cojunto de training y test varían mucho, no tenemos datos estables para el problema que queremos resolver."
   ]
  },
  {
   "cell_type": "markdown",
   "id": "f4d28191-8dda-4fb9-b2bf-37dbebcf4281",
   "metadata": {},
   "source": [
    "##### Ejecución algoritmo KNN"
   ]
  },
  {
   "cell_type": "markdown",
   "id": "b39053de-8c5f-474e-8065-f92b79bede9f",
   "metadata": {},
   "source": [
    "- Se trata de un problema de clasificación multiclase.\n",
    "- average='macro' calculará la métrica independientemente para cada clase y luego sacará la media. Las métricas macro promediadas darán el mismo peso a cada clase, independientemente del desequilibrio de clases.\n",
    "    - En caso de sobremuestreo, el número de muestras en las diferentes clases no está equilibrado, por lo que el uso de micro se verá afectado por este desequilibrio. Macro, en cambio, dará el mismo peso a todas las clases, por lo que es más apropiado. En métodos de sobremuestreo como SMOTE, esto puede ayudar a mitigar el sesgo hacia la clase sobremuestreada y dar una visión más representativa del rendimiento del modelo. Por lo tanto, cuando se utilizan técnicas de sobremuestreo, se recomienda utilizar la opción average='macro' para calcular la *precision*, el *recall* y el *f1-score*."
   ]
  },
  {
   "cell_type": "code",
   "execution_count": 28,
   "id": "72f39e0d-07a5-4441-9287-1025511958dd",
   "metadata": {
    "tags": []
   },
   "outputs": [
    {
     "name": "stdout",
     "output_type": "stream",
     "text": [
      "Iteración: 1\n",
      "Fold accuracy: 0.89\n",
      "Matriz de Confusión:\n",
      " [[6 0 0 0 0 2]\n",
      " [2 6 0 0 0 0]\n",
      " [0 0 8 0 0 0]\n",
      " [1 0 0 6 0 0]\n",
      " [0 0 0 0 7 0]\n",
      " [0 0 0 0 0 8]]\n",
      "\n",
      "Accuracy: 0.8913043478260869\n",
      "Precision: 0.911111111111111\n",
      "Recall: 0.8928571428571429\n",
      "F1-Score: 0.8958318370083077\n",
      "******\n",
      "\n",
      "Iteración: 2\n",
      "Fold accuracy: 0.91\n",
      "Matriz de Confusión:\n",
      " [[7 0 0 0 0 1]\n",
      " [1 6 1 0 0 0]\n",
      " [0 0 8 0 0 0]\n",
      " [0 0 0 7 0 0]\n",
      " [0 0 0 0 7 0]\n",
      " [1 0 0 0 0 7]]\n",
      "\n",
      "Accuracy: 0.9130434782608695\n",
      "Precision: 0.923611111111111\n",
      "Recall: 0.9166666666666666\n",
      "F1-Score: 0.916141456582633\n",
      "******\n",
      "\n",
      "Iteración: 3\n",
      "Fold accuracy: 0.83\n",
      "Matriz de Confusión:\n",
      " [[6 0 0 0 0 2]\n",
      " [3 5 0 0 0 0]\n",
      " [0 0 8 0 0 0]\n",
      " [1 0 1 5 0 0]\n",
      " [0 0 0 0 8 0]\n",
      " [1 0 0 0 0 6]]\n",
      "\n",
      "Accuracy: 0.8260869565217391\n",
      "Precision: 0.8640572390572391\n",
      "Recall: 0.8244047619047619\n",
      "F1-Score: 0.8292199200867931\n",
      "******\n",
      "\n",
      "Iteración: 4\n",
      "Fold accuracy: 0.91\n",
      "Matriz de Confusión:\n",
      " [[8 0 0 0 0 0]\n",
      " [1 6 0 0 0 1]\n",
      " [0 0 8 0 0 0]\n",
      " [0 0 0 7 0 0]\n",
      " [0 0 0 0 8 0]\n",
      " [2 0 0 0 0 5]]\n",
      "\n",
      "Accuracy: 0.9130434782608695\n",
      "Precision: 0.9267676767676768\n",
      "Recall: 0.9107142857142857\n",
      "F1-Score: 0.9114131482552534\n",
      "******\n",
      "\n",
      "Iteración: 5\n",
      "Fold accuracy: 0.89\n",
      "Matriz de Confusión:\n",
      " [[7 1 0 0 0 0]\n",
      " [2 4 1 0 0 0]\n",
      " [0 0 8 0 0 0]\n",
      " [0 0 0 8 0 0]\n",
      " [0 0 0 0 8 0]\n",
      " [0 1 0 0 0 6]]\n",
      "\n",
      "Accuracy: 0.8913043478260869\n",
      "Precision: 0.8888888888888888\n",
      "Recall: 0.8839285714285713\n",
      "F1-Score: 0.8838612368024134\n",
      "******\n",
      "\n",
      "Iteración: 6\n",
      "Fold accuracy: 0.89\n",
      "Matriz de Confusión:\n",
      " [[7 0 0 0 0 1]\n",
      " [3 3 0 0 1 0]\n",
      " [0 0 8 0 0 0]\n",
      " [0 0 0 8 0 0]\n",
      " [0 0 0 0 8 0]\n",
      " [0 0 0 0 0 7]]\n",
      "\n",
      "Accuracy: 0.8913043478260869\n",
      "Precision: 0.9106481481481481\n",
      "Recall: 0.8839285714285715\n",
      "F1-Score: 0.8753812636165578\n",
      "******\n",
      "\n",
      "Iteración: 7\n",
      "Fold accuracy: 0.96\n",
      "Matriz de Confusión:\n",
      " [[7 0 0 0 0 0]\n",
      " [1 6 0 0 0 0]\n",
      " [0 0 7 0 0 0]\n",
      " [0 0 0 8 0 0]\n",
      " [0 0 0 0 8 0]\n",
      " [0 1 0 0 0 7]]\n",
      "\n",
      "Accuracy: 0.9555555555555556\n",
      "Precision: 0.9553571428571429\n",
      "Recall: 0.9553571428571429\n",
      "F1-Score: 0.953968253968254\n",
      "******\n",
      "\n",
      "Iteración: 8\n",
      "Fold accuracy: 0.93\n",
      "Matriz de Confusión:\n",
      " [[7 0 0 0 0 0]\n",
      " [3 4 0 0 0 0]\n",
      " [0 0 7 0 0 0]\n",
      " [0 0 0 8 0 0]\n",
      " [0 0 0 0 8 0]\n",
      " [0 0 0 0 0 8]]\n",
      "\n",
      "Accuracy: 0.9333333333333333\n",
      "Precision: 0.9500000000000001\n",
      "Recall: 0.9285714285714285\n",
      "F1-Score: 0.9251336898395722\n",
      "******\n",
      "\n",
      "Iteración: 9\n",
      "Fold accuracy: 0.80\n",
      "Matriz de Confusión:\n",
      " [[5 2 0 0 0 0]\n",
      " [2 3 0 0 0 3]\n",
      " [0 0 7 0 0 0]\n",
      " [0 0 0 8 0 0]\n",
      " [0 0 0 0 7 0]\n",
      " [2 0 0 0 0 6]]\n",
      "\n",
      "Accuracy: 0.8\n",
      "Precision: 0.8037037037037037\n",
      "Recall: 0.8065476190476191\n",
      "F1-Score: 0.798736802413273\n",
      "******\n",
      "\n",
      "Iteración: 10\n",
      "Fold accuracy: 0.91\n",
      "Matriz de Confusión:\n",
      " [[7 0 0 0 0 0]\n",
      " [3 5 0 0 0 0]\n",
      " [0 0 7 0 0 0]\n",
      " [1 0 0 7 0 0]\n",
      " [0 0 0 0 7 0]\n",
      " [0 0 0 0 0 8]]\n",
      "\n",
      "Accuracy: 0.9111111111111111\n",
      "Precision: 0.9393939393939394\n",
      "Recall: 0.9166666666666666\n",
      "F1-Score: 0.9133903133903134\n",
      "******\n",
      "\n"
     ]
    }
   ],
   "source": [
    "n_iter = 0 ## Contador número de iteraciones del Cross-Validation\n",
    "# Evaluamos el modelo usando cross-validation\n",
    "for train_index, test_index in skf.split(X_scaled, y_o):\n",
    "    n_iter +=1\n",
    "    print('Iteración:',n_iter)\n",
    "    \n",
    "    ## División del dataset en entrenamiento y test\n",
    "    X_train, X_test = X_scaled[train_index], X_scaled[test_index]\n",
    "    y_train, y_test = y_o[train_index], y_o[test_index]\n",
    "    \n",
    "    ## Entrenar el algoritmo\n",
    "    knn_2.fit(X_train, y_train)\n",
    "    score = knn_2.score(X_test, y_test)\n",
    "    print(\"Fold accuracy: {:.2f}\".format(score))\n",
    "    \n",
    "    ## Predicción del algoritmo\n",
    "    y_pred = knn_2.predict(X_test)\n",
    "    \n",
    "    ## Métricas de evaluación\n",
    "    cm = confusion_matrix(y_test, y_pred)\n",
    "    accu = accuracy_score(y_test, y_pred)\n",
    "    prec = precision_score(y_test, y_pred, average='macro')\n",
    "    recall = recall_score(y_test, y_pred, average='macro')\n",
    "    f1 = f1_score(y_test, y_pred, average='macro')\n",
    "    \n",
    "    ## Guardar resultados métricas de evaluación de cada iteración\n",
    "    cm_list.append(cm)\n",
    "    accu_list.append(accu)\n",
    "    prec_list.append(prec)\n",
    "    recall_list.append(recall)\n",
    "    f1_list.append(f1)\n",
    "    \n",
    "    ## Imprimir Métricas de evaluación en cada iteración\n",
    "    print('Matriz de Confusión:\\n',cm)\n",
    "    print('')\n",
    "    print('Accuracy:',accu)\n",
    "    print('Precision:',prec)\n",
    "    print('Recall:',recall)\n",
    "    print('F1-Score:',f1)\n",
    "    print('******\\n')"
   ]
  },
  {
   "cell_type": "markdown",
   "id": "ed6b4df2-d5bc-492d-9bf2-d295e3cde424",
   "metadata": {},
   "source": [
    "- Podemos observar el resultado de una 10-Fold Stratified Cross-Validation de un clasificador KNN con k=2. En este caso, el conjunto de datos se divide en 10 pliegues o folds y el clasificador KNN se entrena y evalúa en cada pliegue por separado. \n",
    "\n",
    "- Observamos que en todas las iteraciones, el clasificador parece tener una accuracy que oscila entre 0.82 y 0.96, mientras que los valores de precision, recall y F1-score se sitúan en torno a 0.9."
   ]
  },
  {
   "cell_type": "markdown",
   "id": "07fac47b-1ef2-45e0-8834-011630774206",
   "metadata": {},
   "source": [
    "##### Evaluación final del algoritmo KNN\n"
   ]
  },
  {
   "cell_type": "code",
   "execution_count": 29,
   "id": "bdfe4ff7-98b2-4800-b60a-12b730fc56f3",
   "metadata": {},
   "outputs": [
    {
     "name": "stdout",
     "output_type": "stream",
     "text": [
      "Matriz de Confusión:\n",
      " [[6 0 0 0 0 0]\n",
      " [2 4 0 0 0 0]\n",
      " [0 0 7 0 0 0]\n",
      " [0 0 0 7 0 0]\n",
      " [0 0 0 0 7 0]\n",
      " [0 0 0 0 0 6]]\n",
      "\n",
      "Accuracy: 0.893\n",
      "Precision: 0.907\n",
      "Recall: 0.892\n",
      "F1-Score: 0.89\n",
      "******\n",
      "\n"
     ]
    }
   ],
   "source": [
    "cm_mean = np.mean(cm_list, axis=0).astype(int)\n",
    "accu_mean = np.mean(accu_list, axis=0)\n",
    "prec_mean = np.mean(prec_list, axis=0)\n",
    "recall_mean = np.mean(recall_list, axis=0)\n",
    "f1_mean = np.mean(f1_list, axis=0)\n",
    "\n",
    "print('Matriz de Confusión:\\n',cm_mean)\n",
    "print('')\n",
    "print('Accuracy:',np.round(accu_mean,3))\n",
    "print('Precision:',np.round(prec_mean,3))\n",
    "print('Recall:',np.round(recall_mean,3))\n",
    "print('F1-Score:',np.round(f1_mean,3))\n",
    "print('******\\n')"
   ]
  },
  {
   "cell_type": "markdown",
   "id": "d465eb9f-db5a-454a-be89-222d88a6b65d",
   "metadata": {},
   "source": [
    "- Obtenemos el resultado de promediar el rendimiento del clasificador en varias ejecuciones. La matriz de confusión, la accuracy, la precision, el recall y el F1-score se calculan para cada ejecución y, a continuación, se calculan los valores medios.\n",
    "\n",
    "- La matriz de confusión media resultante muestra que la mayoría de las predicciones del clasificador son correctas, ya que la mayoría de las entradas están en la diagonal de la matriz (lo que corresponde a muestras correctamente clasificadas). No obstante hay alguna muestra mal clasificada. \n",
    "\n",
    "- Los valores medios de accuracy, precision, recall y puntuación F1 resultantes son respectivamente 0.893, 0.907, 0.892 y 0.89, lo que implica que, en promedio, el modelo funciona relativamente bien. Sin embargo, algunas clases tienen puntuaciones más bajas que otras, lo que indica que el modelo tiene más dificultades para clasificarlas. \n",
    "\n",
    "- En general, el clasificador tiene un buen rendimiento, pero aún con margen de mejora, especialmente para las clases con valores más bajos de precision, recall y F1-score.\n"
   ]
  },
  {
   "cell_type": "markdown",
   "id": "627cd4d0-02b5-40ad-90fb-b8f17499a6f0",
   "metadata": {},
   "source": [
    "#### Para k=4"
   ]
  },
  {
   "cell_type": "markdown",
   "id": "59b537d8-e8be-4097-89ee-5134ff1d6bf7",
   "metadata": {
    "tags": []
   },
   "source": [
    "##### Preparación algoritmo KNN\n"
   ]
  },
  {
   "cell_type": "code",
   "execution_count": 31,
   "id": "b4e4f576-2c8c-4871-9ae3-1e2f63e4580d",
   "metadata": {
    "tags": []
   },
   "outputs": [],
   "source": [
    "knn_4 = KNeighborsClassifier(n_neighbors = 4)\n",
    "\n",
    "# 10-Fold Stratified Cross-Validation \n",
    "skf = StratifiedKFold(n_splits=10, random_state=None, shuffle=False)\n",
    "# random_state = None: el generador de números aleatorios utilizará un valor de semilla diferente \n",
    "    # cada vez que se ejecute el código, lo que resultará en un barajado diferente de los datos cada vez.\n",
    "# shuffle=False: los datos se utilizan en el orden del conjunto de datos de entrada y no se barajan.\n",
    "\n",
    "\n",
    "## Arrays para almacenar los resultados de cada iteración\n",
    "cm_list = []\n",
    "accu_list = []\n",
    "prec_list = []\n",
    "recall_list = []\n",
    "f1_list = []"
   ]
  },
  {
   "cell_type": "markdown",
   "id": "d3d513fc-b978-442c-afc6-87979ad6c32c",
   "metadata": {},
   "source": [
    "##### Ejecución algoritmo KNN"
   ]
  },
  {
   "cell_type": "code",
   "execution_count": 32,
   "id": "8526365a-35a4-4220-b04a-593554d3bd98",
   "metadata": {
    "tags": []
   },
   "outputs": [
    {
     "name": "stdout",
     "output_type": "stream",
     "text": [
      "Iteración: 1\n",
      "Fold accuracy: 0.85\n",
      "Matriz de Confusión:\n",
      " [[6 0 0 0 0 2]\n",
      " [3 5 0 0 0 0]\n",
      " [0 0 8 0 0 0]\n",
      " [1 0 0 6 0 0]\n",
      " [0 0 0 0 7 0]\n",
      " [1 0 0 0 0 7]]\n",
      "\n",
      "Accuracy: 0.8478260869565217\n",
      "Precision: 0.8872053872053871\n",
      "Recall: 0.8511904761904763\n",
      "F1-Score: 0.8579026752401364\n",
      "******\n",
      "\n",
      "Iteración: 2\n",
      "Fold accuracy: 0.89\n",
      "Matriz de Confusión:\n",
      " [[7 0 0 0 0 1]\n",
      " [2 5 1 0 0 0]\n",
      " [0 0 8 0 0 0]\n",
      " [0 0 0 7 0 0]\n",
      " [0 0 0 0 7 0]\n",
      " [1 0 0 0 0 7]]\n",
      "\n",
      "Accuracy: 0.8913043478260869\n",
      "Precision: 0.9106481481481481\n",
      "Recall: 0.8958333333333334\n",
      "F1-Score: 0.8938641695994637\n",
      "******\n",
      "\n",
      "Iteración: 3\n",
      "Fold accuracy: 0.80\n",
      "Matriz de Confusión:\n",
      " [[5 1 0 0 0 2]\n",
      " [2 5 0 0 0 1]\n",
      " [0 0 8 0 0 0]\n",
      " [1 0 1 5 0 0]\n",
      " [0 0 0 0 8 0]\n",
      " [1 0 0 0 0 6]]\n",
      "\n",
      "Accuracy: 0.8043478260869565\n",
      "Precision: 0.8240740740740741\n",
      "Recall: 0.8035714285714285\n",
      "F1-Score: 0.8045051353874882\n",
      "******\n",
      "\n",
      "Iteración: 4\n",
      "Fold accuracy: 0.89\n",
      "Matriz de Confusión:\n",
      " [[8 0 0 0 0 0]\n",
      " [1 5 0 0 0 2]\n",
      " [0 0 8 0 0 0]\n",
      " [0 0 0 7 0 0]\n",
      " [0 0 0 0 8 0]\n",
      " [2 0 0 0 0 5]]\n",
      "\n",
      "Accuracy: 0.8913043478260869\n",
      "Precision: 0.906926406926407\n",
      "Recall: 0.8898809523809524\n",
      "F1-Score: 0.8876036244457297\n",
      "******\n",
      "\n",
      "Iteración: 5\n",
      "Fold accuracy: 0.91\n",
      "Matriz de Confusión:\n",
      " [[6 2 0 0 0 0]\n",
      " [1 5 1 0 0 0]\n",
      " [0 0 8 0 0 0]\n",
      " [0 0 0 8 0 0]\n",
      " [0 0 0 0 8 0]\n",
      " [0 0 0 0 0 7]]\n",
      "\n",
      "Accuracy: 0.9130434782608695\n",
      "Precision: 0.9100529100529101\n",
      "Recall: 0.9107142857142857\n",
      "F1-Score: 0.9092436974789916\n",
      "******\n",
      "\n",
      "Iteración: 6\n",
      "Fold accuracy: 0.91\n",
      "Matriz de Confusión:\n",
      " [[8 0 0 0 0 0]\n",
      " [3 3 0 0 1 0]\n",
      " [0 0 8 0 0 0]\n",
      " [0 0 0 8 0 0]\n",
      " [0 0 0 0 8 0]\n",
      " [0 0 0 0 0 7]]\n",
      "\n",
      "Accuracy: 0.9130434782608695\n",
      "Precision: 0.936026936026936\n",
      "Recall: 0.9047619047619048\n",
      "F1-Score: 0.8972136222910216\n",
      "******\n",
      "\n",
      "Iteración: 7\n",
      "Fold accuracy: 0.89\n",
      "Matriz de Confusión:\n",
      " [[6 0 0 0 0 1]\n",
      " [2 4 0 0 0 1]\n",
      " [0 0 6 1 0 0]\n",
      " [0 0 0 8 0 0]\n",
      " [0 0 0 0 8 0]\n",
      " [0 0 0 0 0 8]]\n",
      "\n",
      "Accuracy: 0.8888888888888888\n",
      "Precision: 0.9064814814814816\n",
      "Recall: 0.8809523809523809\n",
      "F1-Score: 0.8800691683044625\n",
      "******\n",
      "\n",
      "Iteración: 8\n",
      "Fold accuracy: 0.82\n",
      "Matriz de Confusión:\n",
      " [[6 0 0 0 0 1]\n",
      " [3 1 3 0 0 0]\n",
      " [0 0 7 0 0 0]\n",
      " [0 0 0 8 0 0]\n",
      " [0 0 0 0 8 0]\n",
      " [1 0 0 0 0 7]]\n",
      "\n",
      "Accuracy: 0.8222222222222222\n",
      "Precision: 0.8624999999999999\n",
      "Recall: 0.8125\n",
      "F1-Score: 0.7757352941176471\n",
      "******\n",
      "\n",
      "Iteración: 9\n",
      "Fold accuracy: 0.76\n",
      "Matriz de Confusión:\n",
      " [[3 2 0 0 0 2]\n",
      " [1 3 0 0 1 3]\n",
      " [0 0 7 0 0 0]\n",
      " [0 0 0 8 0 0]\n",
      " [0 0 0 0 7 0]\n",
      " [2 0 0 0 0 6]]\n",
      "\n",
      "Accuracy: 0.7555555555555555\n",
      "Precision: 0.7534090909090909\n",
      "Recall: 0.7589285714285715\n",
      "F1-Score: 0.7479982006297795\n",
      "******\n",
      "\n",
      "Iteración: 10\n",
      "Fold accuracy: 0.93\n",
      "Matriz de Confusión:\n",
      " [[7 0 0 0 0 0]\n",
      " [2 5 0 0 0 1]\n",
      " [0 0 7 0 0 0]\n",
      " [0 0 0 8 0 0]\n",
      " [0 0 0 0 7 0]\n",
      " [0 0 0 0 0 8]]\n",
      "\n",
      "Accuracy: 0.9333333333333333\n",
      "Precision: 0.9444444444444443\n",
      "Recall: 0.9375\n",
      "F1-Score: 0.9309012066365008\n",
      "******\n",
      "\n"
     ]
    }
   ],
   "source": [
    "n_iter = 0 ## Contador número de iteraciones del Cross-Validation\n",
    "\n",
    "# Evaluamos el modelo usando cross-validation\n",
    "for train_index, test_index in skf.split(X_scaled, y_o):\n",
    "    n_iter +=1\n",
    "    print('Iteración:',n_iter)\n",
    "    \n",
    "    ## División del dataset en entrenamiento y test\n",
    "    X_train, X_test = X_scaled[train_index], X_scaled[test_index]\n",
    "    y_train, y_test = y_o[train_index], y_o[test_index]\n",
    "\n",
    "    ## Entrenar el algoritmo\n",
    "    knn_4.fit(X_train, y_train)\n",
    "    score = knn_4.score(X_test, y_test)\n",
    "    print(\"Fold accuracy: {:.2f}\".format(score))\n",
    "    \n",
    "    ## Predicción del algoritmo\n",
    "    y_pred = knn_4.predict(X_test)\n",
    "    \n",
    "    ## Métricas de evaluación\n",
    "    cm = confusion_matrix(y_test, y_pred)\n",
    "    accu = accuracy_score(y_test, y_pred)\n",
    "    prec = precision_score(y_test, y_pred, average='macro')\n",
    "    recall = recall_score(y_test, y_pred, average='macro')\n",
    "    f1 = f1_score(y_test, y_pred, average='macro')\n",
    "    \n",
    "    ## Guardar resultados métricas de evaluación de cada iteración\n",
    "    cm_list.append(cm)\n",
    "    accu_list.append(accu)\n",
    "    prec_list.append(prec)\n",
    "    recall_list.append(recall)\n",
    "    f1_list.append(f1)\n",
    "    \n",
    "    ## Imprimir Métricas de evaluación en cada iteración\n",
    "    print('Matriz de Confusión:\\n',cm)\n",
    "    print('')\n",
    "    print('Accuracy:',accu)\n",
    "    print('Precision:',prec)\n",
    "    print('Recall:',recall)\n",
    "    print('F1-Score:',f1)\n",
    "    print('******\\n')"
   ]
  },
  {
   "cell_type": "markdown",
   "id": "f78dd0c8-cb8d-4ee0-85db-a97c8247705a",
   "metadata": {},
   "source": [
    "##### Evaluación final del algoritmo KNN\n"
   ]
  },
  {
   "cell_type": "code",
   "execution_count": 34,
   "id": "157b7c70-ccfe-4660-826d-a3c42e537a67",
   "metadata": {},
   "outputs": [
    {
     "name": "stdout",
     "output_type": "stream",
     "text": [
      "Matriz de Confusión:\n",
      " [[6 0 0 0 0 0]\n",
      " [2 4 0 0 0 0]\n",
      " [0 0 7 0 0 0]\n",
      " [0 0 0 7 0 0]\n",
      " [0 0 0 0 7 0]\n",
      " [0 0 0 0 0 6]]\n",
      "\n",
      "Accuracy: 0.866\n",
      "Precision: 0.884\n",
      "Recall: 0.865\n",
      "F1-Score: 0.859\n",
      "******\n",
      "\n"
     ]
    }
   ],
   "source": [
    "cm_mean = np.mean(cm_list, axis=0).astype(int)\n",
    "accu_mean = np.mean(accu_list, axis=0)\n",
    "prec_mean = np.mean(prec_list, axis=0)\n",
    "recall_mean = np.mean(recall_list, axis=0)\n",
    "f1_mean = np.mean(f1_list, axis=0)\n",
    "\n",
    "print('Matriz de Confusión:\\n',cm_mean)\n",
    "print('')\n",
    "print('Accuracy:',np.round(accu_mean,3))\n",
    "print('Precision:',np.round(prec_mean,3))\n",
    "print('Recall:',np.round(recall_mean,3))\n",
    "print('F1-Score:',np.round(f1_mean,3))\n",
    "print('******\\n')"
   ]
  },
  {
   "cell_type": "markdown",
   "id": "e12f21a0-4218-409a-912d-fc6284061245",
   "metadata": {},
   "source": [
    "- Para k=4:\n",
    "    - Misma matriz de confusión que para k=2.\n",
    "    - Observamos que los valores medios de la accuracy, precision, recall y F1-Score son ligeramente peores que para k=2. Por tanto, el rendimiento del modelo no es tan bueno como k=2. Esto puede deberse a que a medida que k aumenta, el modelo tiende a ser más sensible al ruido."
   ]
  },
  {
   "cell_type": "markdown",
   "id": "001303c9-cd3b-4271-bfd9-d569409f6df3",
   "metadata": {},
   "source": [
    "#### Para k=6"
   ]
  },
  {
   "cell_type": "markdown",
   "id": "608f0cc0-1a3d-4ad7-835a-5902dc216895",
   "metadata": {
    "tags": []
   },
   "source": [
    "##### Preparación algoritmo KNN\n"
   ]
  },
  {
   "cell_type": "code",
   "execution_count": 35,
   "id": "f2cc10b9-80f1-4039-8a4e-71bc215f8fba",
   "metadata": {
    "tags": []
   },
   "outputs": [],
   "source": [
    "knn_6 = KNeighborsClassifier(n_neighbors = 6)\n",
    "\n",
    "# 10-Fold Stratified Cross-Validation \n",
    "skf = StratifiedKFold(n_splits=10, random_state=None, shuffle=False)\n",
    "# random_state = None: el generador de números aleatorios utilizará un valor de semilla diferente \n",
    "    # cada vez que se ejecute el código, lo que resultará en un barajado diferente de los datos cada vez.\n",
    "# shuffle=False: los datos se utilizan en el orden del conjunto de datos de entrada y no se barajan.\n",
    "\n",
    "\n",
    "## Arrays para almacenar los resultados de cada iteración\n",
    "cm_list = []\n",
    "accu_list = []\n",
    "prec_list = []\n",
    "recall_list = []\n",
    "f1_list = []"
   ]
  },
  {
   "cell_type": "markdown",
   "id": "a0c699ed-ebce-419b-b7ae-7b252d8037b7",
   "metadata": {},
   "source": [
    "##### Ejecución algoritmo KNN"
   ]
  },
  {
   "cell_type": "code",
   "execution_count": 36,
   "id": "496e3c3e-ac3a-47e6-9093-abb7b9c298bb",
   "metadata": {
    "tags": []
   },
   "outputs": [
    {
     "name": "stdout",
     "output_type": "stream",
     "text": [
      "Iteración: 1\n",
      "Fold accuracy: 0.83\n",
      "Matriz de Confusión:\n",
      " [[5 1 0 0 0 2]\n",
      " [3 5 0 0 0 0]\n",
      " [0 0 8 0 0 0]\n",
      " [1 0 0 6 0 0]\n",
      " [0 0 0 0 7 0]\n",
      " [1 0 0 0 0 7]]\n",
      "\n",
      "Accuracy: 0.8260869565217391\n",
      "Precision: 0.851851851851852\n",
      "Recall: 0.8303571428571429\n",
      "F1-Score: 0.836074600780483\n",
      "******\n",
      "\n",
      "Iteración: 2\n",
      "Fold accuracy: 0.83\n",
      "Matriz de Confusión:\n",
      " [[5 2 0 0 0 1]\n",
      " [2 5 1 0 0 0]\n",
      " [0 0 8 0 0 0]\n",
      " [1 0 0 6 0 0]\n",
      " [0 0 0 0 7 0]\n",
      " [1 0 0 0 0 7]]\n",
      "\n",
      "Accuracy: 0.8260869565217391\n",
      "Precision: 0.8389550264550264\n",
      "Recall: 0.8303571428571429\n",
      "F1-Score: 0.8323592257415786\n",
      "******\n",
      "\n",
      "Iteración: 3\n",
      "Fold accuracy: 0.83\n",
      "Matriz de Confusión:\n",
      " [[5 1 0 0 0 2]\n",
      " [3 5 0 0 0 0]\n",
      " [0 0 8 0 0 0]\n",
      " [1 0 1 5 0 0]\n",
      " [0 0 0 0 8 0]\n",
      " [0 0 0 0 0 7]]\n",
      "\n",
      "Accuracy: 0.8260869565217391\n",
      "Precision: 0.8425925925925926\n",
      "Recall: 0.8273809523809524\n",
      "F1-Score: 0.8253384687208216\n",
      "******\n",
      "\n",
      "Iteración: 4\n",
      "Fold accuracy: 0.91\n",
      "Matriz de Confusión:\n",
      " [[8 0 0 0 0 0]\n",
      " [1 5 0 0 0 2]\n",
      " [0 0 8 0 0 0]\n",
      " [0 0 0 7 0 0]\n",
      " [0 0 0 0 8 0]\n",
      " [1 0 0 0 0 6]]\n",
      "\n",
      "Accuracy: 0.9130434782608695\n",
      "Precision: 0.9249999999999999\n",
      "Recall: 0.9136904761904762\n",
      "F1-Score: 0.9096866096866097\n",
      "******\n",
      "\n",
      "Iteración: 5\n",
      "Fold accuracy: 0.83\n",
      "Matriz de Confusión:\n",
      " [[4 3 0 0 0 1]\n",
      " [1 4 2 0 0 0]\n",
      " [0 0 8 0 0 0]\n",
      " [0 1 0 7 0 0]\n",
      " [0 0 0 0 8 0]\n",
      " [0 0 0 0 0 7]]\n",
      "\n",
      "Accuracy: 0.8260869565217391\n",
      "Precision: 0.8291666666666666\n",
      "Recall: 0.8244047619047619\n",
      "F1-Score: 0.8173789173789174\n",
      "******\n",
      "\n",
      "Iteración: 6\n",
      "Fold accuracy: 0.91\n",
      "Matriz de Confusión:\n",
      " [[8 0 0 0 0 0]\n",
      " [3 3 0 0 1 0]\n",
      " [0 0 8 0 0 0]\n",
      " [0 0 0 8 0 0]\n",
      " [0 0 0 0 8 0]\n",
      " [0 0 0 0 0 7]]\n",
      "\n",
      "Accuracy: 0.9130434782608695\n",
      "Precision: 0.936026936026936\n",
      "Recall: 0.9047619047619048\n",
      "F1-Score: 0.8972136222910216\n",
      "******\n",
      "\n",
      "Iteración: 7\n",
      "Fold accuracy: 0.87\n",
      "Matriz de Confusión:\n",
      " [[5 0 0 0 0 2]\n",
      " [2 4 0 0 0 1]\n",
      " [0 0 6 1 0 0]\n",
      " [0 0 0 8 0 0]\n",
      " [0 0 0 0 8 0]\n",
      " [0 0 0 0 0 8]]\n",
      "\n",
      "Accuracy: 0.8666666666666667\n",
      "Precision: 0.8884078884078884\n",
      "Recall: 0.8571428571428571\n",
      "F1-Score: 0.8579861830635824\n",
      "******\n",
      "\n",
      "Iteración: 8\n",
      "Fold accuracy: 0.82\n",
      "Matriz de Confusión:\n",
      " [[7 0 0 0 0 0]\n",
      " [3 1 3 0 0 0]\n",
      " [0 0 7 0 0 0]\n",
      " [0 0 0 8 0 0]\n",
      " [0 0 0 0 8 0]\n",
      " [2 0 0 0 0 6]]\n",
      "\n",
      "Accuracy: 0.8222222222222222\n",
      "Precision: 0.8805555555555555\n",
      "Recall: 0.8154761904761904\n",
      "F1-Score: 0.7779190623617868\n",
      "******\n",
      "\n",
      "Iteración: 9\n",
      "Fold accuracy: 0.73\n",
      "Matriz de Confusión:\n",
      " [[2 3 0 0 0 2]\n",
      " [1 3 0 0 1 3]\n",
      " [0 0 7 0 0 0]\n",
      " [0 0 0 8 0 0]\n",
      " [0 0 0 0 7 0]\n",
      " [2 0 0 0 0 6]]\n",
      "\n",
      "Accuracy: 0.7333333333333333\n",
      "Precision: 0.7200757575757576\n",
      "Recall: 0.7351190476190476\n",
      "F1-Score: 0.7211361737677527\n",
      "******\n",
      "\n",
      "Iteración: 10\n",
      "Fold accuracy: 0.91\n",
      "Matriz de Confusión:\n",
      " [[6 1 0 0 0 0]\n",
      " [1 5 0 0 0 2]\n",
      " [0 0 7 0 0 0]\n",
      " [0 0 0 8 0 0]\n",
      " [0 0 0 0 7 0]\n",
      " [0 0 0 0 0 8]]\n",
      "\n",
      "Accuracy: 0.9111111111111111\n",
      "Precision: 0.915079365079365\n",
      "Recall: 0.9136904761904763\n",
      "F1-Score: 0.9100529100529101\n",
      "******\n",
      "\n"
     ]
    }
   ],
   "source": [
    "n_iter = 0 ## Contador número de iteraciones del Cross-Validation\n",
    "\n",
    "# Evaluamos el modelo usando cross-validation\n",
    "for train_index, test_index in skf.split(X_scaled, y_o):\n",
    "    \n",
    "    n_iter +=1\n",
    "    print('Iteración:',n_iter)\n",
    "    \n",
    "    ## División del dataset en entrenamiento y test\n",
    "    X_train, X_test = X_scaled[train_index], X_scaled[test_index]\n",
    "    y_train, y_test = y_o[train_index], y_o[test_index]\n",
    "    \n",
    "    ## Entrenar el algoritmo\n",
    "    knn_6.fit(X_train, y_train)\n",
    "    score = knn_6.score(X_test, y_test)\n",
    "    print(\"Fold accuracy: {:.2f}\".format(score))\n",
    "    \n",
    "    ## Predicción del algoritmo\n",
    "    y_pred = knn_6.predict(X_test)\n",
    "    \n",
    "    ## Métricas de evaluación\n",
    "    cm = confusion_matrix(y_test, y_pred)\n",
    "    accu = accuracy_score(y_test, y_pred)\n",
    "    prec = precision_score(y_test, y_pred, average='macro')\n",
    "    recall = recall_score(y_test, y_pred, average='macro')\n",
    "    f1 = f1_score(y_test, y_pred, average='macro')\n",
    "    \n",
    "    ## Guardar resultados métricas de evaluación de cada iteración\n",
    "    cm_list.append(cm)\n",
    "    accu_list.append(accu)\n",
    "    prec_list.append(prec)\n",
    "    recall_list.append(recall)\n",
    "    f1_list.append(f1)\n",
    "    \n",
    "    ## Imprimir Métricas de evaluación en cada iteración\n",
    "    print('Matriz de Confusión:\\n',cm)\n",
    "    print('')\n",
    "    print('Accuracy:',accu)\n",
    "    print('Precision:',prec)\n",
    "    print('Recall:',recall)\n",
    "    print('F1-Score:',f1)\n",
    "    print('******\\n')"
   ]
  },
  {
   "cell_type": "markdown",
   "id": "f6427c7e-8517-4045-9779-0302d5ef5f38",
   "metadata": {},
   "source": [
    "##### Evaluación final del algoritmo KNN\n"
   ]
  },
  {
   "cell_type": "code",
   "execution_count": 37,
   "id": "938c048a-ad2c-4d9f-9941-dc7873b0ea6a",
   "metadata": {},
   "outputs": [
    {
     "name": "stdout",
     "output_type": "stream",
     "text": [
      "Matriz de Confusión:\n",
      " [[5 1 0 0 0 1]\n",
      " [2 4 0 0 0 0]\n",
      " [0 0 7 0 0 0]\n",
      " [0 0 0 7 0 0]\n",
      " [0 0 0 0 7 0]\n",
      " [0 0 0 0 0 6]]\n",
      "\n",
      "Accuracy: 0.846\n",
      "Precision: 0.863\n",
      "Recall: 0.845\n",
      "F1-Score: 0.839\n",
      "******\n",
      "\n"
     ]
    }
   ],
   "source": [
    "cm_mean = np.mean(cm_list, axis=0).astype(int)\n",
    "accu_mean = np.mean(accu_list, axis=0)\n",
    "prec_mean = np.mean(prec_list, axis=0)\n",
    "recall_mean = np.mean(recall_list, axis=0)\n",
    "f1_mean = np.mean(f1_list, axis=0)\n",
    "\n",
    "print('Matriz de Confusión:\\n',cm_mean)\n",
    "print('')\n",
    "print('Accuracy:',np.round(accu_mean,3))\n",
    "print('Precision:',np.round(prec_mean,3))\n",
    "print('Recall:',np.round(recall_mean,3))\n",
    "print('F1-Score:',np.round(f1_mean,3))\n",
    "print('******\\n')"
   ]
  },
  {
   "cell_type": "markdown",
   "id": "d2d06bb0-312c-4b6f-bda9-cb3017b6b898",
   "metadata": {},
   "source": [
    "- Para k=6, observamos que los valores medios de la accuracy, precision, recall y F1-Score son ligeramente peores que para k=2 y k=4. Por tanto, el rendimiento del modelo ha disminuido respecto a k=2 y k=4. Esto puede deberse a que a medida que k aumenta, el modelo tiende a ser más sensible al ruido.\n",
    "\n",
    "- k=6 no es un valor óptimo. "
   ]
  },
  {
   "cell_type": "markdown",
   "id": "40e992a6-8d10-4588-bc4d-bcbe5e3a045c",
   "metadata": {},
   "source": [
    "**Conclusión**\n",
    "- En conclusión, podemos ver que el rendimiento del clasificador disminuye a medida que aumenta el valor de k.  \n",
    "- En general, el clasificador obtiene mejores resultados con un valor menor de k. \n",
    "    - Una posible razón de ello podría ser que el uso de un valor menor de k permite al clasificador identificar mejor las instancias más cercanas y similares a una instancia desconocida, lo que a su vez aumenta las posibilidades de clasificarla correctamente. \n",
    "    - Podría ser que a medida que k aumenta, el modelo tiende a infraajustarse (underfitting), es decir, es menos capaz de ajustarse a los datos, lo que se traduce en una disminución del rendimiento.\n",
    "    - También es posible que el sobremuestreo con SMOTE haya influido en el rendimiento del clasificador KNN, provocando más ruido en el conjunto de datos, lo que podría explicar el mejor rendimiento de un valor k más bajo. Además, el sobremuestreo de muestras sintéticas podría ser menos informativo que las muestras reales, lo que también podría disminuir el rendimiento.\n"
   ]
  },
  {
   "cell_type": "markdown",
   "id": "d49957f1-5597-4128-a5f3-4c9a21c04ea5",
   "metadata": {},
   "source": [
    "## iris.arff"
   ]
  },
  {
   "cell_type": "code",
   "execution_count": 2,
   "id": "390cb38d-1dde-42d0-844c-6964e121d771",
   "metadata": {
    "tags": []
   },
   "outputs": [],
   "source": [
    "# cargamos el .arff file\n",
    "iris = arff.loadarff('iris.arff')\n",
    "# iris es una tupla que contiene dos elementos: un array numpy y una lista de tuplas\n",
    "# primer elemento de la tupla (el array numpy) es el que nos interesa (iris[0])"
   ]
  },
  {
   "cell_type": "code",
   "execution_count": 3,
   "id": "743466ea-8011-4f04-b72a-7ea721018a20",
   "metadata": {},
   "outputs": [],
   "source": [
    "# convertimos los datos a df\n",
    "iris_df = pd.DataFrame(iris[0])"
   ]
  },
  {
   "cell_type": "code",
   "execution_count": 4,
   "id": "0394f60c-42f1-4a4e-8374-24d9780a480b",
   "metadata": {},
   "outputs": [
    {
     "data": {
      "text/html": [
       "<div>\n",
       "<style scoped>\n",
       "    .dataframe tbody tr th:only-of-type {\n",
       "        vertical-align: middle;\n",
       "    }\n",
       "\n",
       "    .dataframe tbody tr th {\n",
       "        vertical-align: top;\n",
       "    }\n",
       "\n",
       "    .dataframe thead th {\n",
       "        text-align: right;\n",
       "    }\n",
       "</style>\n",
       "<table border=\"1\" class=\"dataframe\">\n",
       "  <thead>\n",
       "    <tr style=\"text-align: right;\">\n",
       "      <th></th>\n",
       "      <th>sepallength</th>\n",
       "      <th>sepalwidth</th>\n",
       "      <th>petallength</th>\n",
       "      <th>petalwidth</th>\n",
       "      <th>class</th>\n",
       "    </tr>\n",
       "  </thead>\n",
       "  <tbody>\n",
       "    <tr>\n",
       "      <th>0</th>\n",
       "      <td>5.1</td>\n",
       "      <td>3.5</td>\n",
       "      <td>1.4</td>\n",
       "      <td>0.2</td>\n",
       "      <td>b'Iris-setosa'</td>\n",
       "    </tr>\n",
       "    <tr>\n",
       "      <th>1</th>\n",
       "      <td>4.9</td>\n",
       "      <td>3.0</td>\n",
       "      <td>1.4</td>\n",
       "      <td>0.2</td>\n",
       "      <td>b'Iris-setosa'</td>\n",
       "    </tr>\n",
       "    <tr>\n",
       "      <th>2</th>\n",
       "      <td>4.7</td>\n",
       "      <td>3.2</td>\n",
       "      <td>1.3</td>\n",
       "      <td>0.2</td>\n",
       "      <td>b'Iris-setosa'</td>\n",
       "    </tr>\n",
       "    <tr>\n",
       "      <th>3</th>\n",
       "      <td>4.6</td>\n",
       "      <td>3.1</td>\n",
       "      <td>1.5</td>\n",
       "      <td>0.2</td>\n",
       "      <td>b'Iris-setosa'</td>\n",
       "    </tr>\n",
       "    <tr>\n",
       "      <th>4</th>\n",
       "      <td>5.0</td>\n",
       "      <td>3.6</td>\n",
       "      <td>1.4</td>\n",
       "      <td>0.2</td>\n",
       "      <td>b'Iris-setosa'</td>\n",
       "    </tr>\n",
       "  </tbody>\n",
       "</table>\n",
       "</div>"
      ],
      "text/plain": [
       "   sepallength  sepalwidth  petallength  petalwidth           class\n",
       "0          5.1         3.5          1.4         0.2  b'Iris-setosa'\n",
       "1          4.9         3.0          1.4         0.2  b'Iris-setosa'\n",
       "2          4.7         3.2          1.3         0.2  b'Iris-setosa'\n",
       "3          4.6         3.1          1.5         0.2  b'Iris-setosa'\n",
       "4          5.0         3.6          1.4         0.2  b'Iris-setosa'"
      ]
     },
     "execution_count": 4,
     "metadata": {},
     "output_type": "execute_result"
    }
   ],
   "source": [
    "# 5 primeras filas del df\n",
    "iris_df.head()"
   ]
  },
  {
   "cell_type": "code",
   "execution_count": 5,
   "id": "4a26a56f-76ad-44fe-a274-ca987c8415d7",
   "metadata": {},
   "outputs": [
    {
     "data": {
      "text/plain": [
       "array([b'Iris-setosa', b'Iris-versicolor', b'Iris-virginica'],\n",
       "      dtype=object)"
      ]
     },
     "execution_count": 5,
     "metadata": {},
     "output_type": "execute_result"
    }
   ],
   "source": [
    "# nombres de las clases\n",
    "iris_df['class'].unique()"
   ]
  },
  {
   "cell_type": "code",
   "execution_count": 4,
   "id": "82d4b1b6-dd68-47c0-bd0c-2177cd0b41cc",
   "metadata": {},
   "outputs": [
    {
     "data": {
      "text/plain": [
       "array(['iris_setosa', 'iris_versicolor', 'iris_virginica'], dtype=object)"
      ]
     },
     "execution_count": 4,
     "metadata": {},
     "output_type": "execute_result"
    }
   ],
   "source": [
    "# renombramos las clases para un mejor entendimiento \n",
    "iris_df['class'].replace({b'Iris-setosa': 'iris_setosa',\n",
    "                          b'Iris-versicolor': 'iris_versicolor',\n",
    "                          b'Iris-virginica': 'iris_virginica'\n",
    "                        }, inplace = True)\n",
    "iris_df['class'].unique()"
   ]
  },
  {
   "cell_type": "code",
   "execution_count": 5,
   "id": "d37497dc-060d-4ec3-9306-e80233f26e20",
   "metadata": {},
   "outputs": [
    {
     "data": {
      "text/html": [
       "<div>\n",
       "<style scoped>\n",
       "    .dataframe tbody tr th:only-of-type {\n",
       "        vertical-align: middle;\n",
       "    }\n",
       "\n",
       "    .dataframe tbody tr th {\n",
       "        vertical-align: top;\n",
       "    }\n",
       "\n",
       "    .dataframe thead th {\n",
       "        text-align: right;\n",
       "    }\n",
       "</style>\n",
       "<table border=\"1\" class=\"dataframe\">\n",
       "  <thead>\n",
       "    <tr style=\"text-align: right;\">\n",
       "      <th></th>\n",
       "      <th>sepallength</th>\n",
       "      <th>sepalwidth</th>\n",
       "      <th>petallength</th>\n",
       "      <th>petalwidth</th>\n",
       "      <th>class</th>\n",
       "    </tr>\n",
       "  </thead>\n",
       "  <tbody>\n",
       "    <tr>\n",
       "      <th>0</th>\n",
       "      <td>5.1</td>\n",
       "      <td>3.5</td>\n",
       "      <td>1.4</td>\n",
       "      <td>0.2</td>\n",
       "      <td>iris_setosa</td>\n",
       "    </tr>\n",
       "    <tr>\n",
       "      <th>1</th>\n",
       "      <td>4.9</td>\n",
       "      <td>3.0</td>\n",
       "      <td>1.4</td>\n",
       "      <td>0.2</td>\n",
       "      <td>iris_setosa</td>\n",
       "    </tr>\n",
       "    <tr>\n",
       "      <th>2</th>\n",
       "      <td>4.7</td>\n",
       "      <td>3.2</td>\n",
       "      <td>1.3</td>\n",
       "      <td>0.2</td>\n",
       "      <td>iris_setosa</td>\n",
       "    </tr>\n",
       "    <tr>\n",
       "      <th>3</th>\n",
       "      <td>4.6</td>\n",
       "      <td>3.1</td>\n",
       "      <td>1.5</td>\n",
       "      <td>0.2</td>\n",
       "      <td>iris_setosa</td>\n",
       "    </tr>\n",
       "    <tr>\n",
       "      <th>4</th>\n",
       "      <td>5.0</td>\n",
       "      <td>3.6</td>\n",
       "      <td>1.4</td>\n",
       "      <td>0.2</td>\n",
       "      <td>iris_setosa</td>\n",
       "    </tr>\n",
       "  </tbody>\n",
       "</table>\n",
       "</div>"
      ],
      "text/plain": [
       "   sepallength  sepalwidth  petallength  petalwidth        class\n",
       "0          5.1         3.5          1.4         0.2  iris_setosa\n",
       "1          4.9         3.0          1.4         0.2  iris_setosa\n",
       "2          4.7         3.2          1.3         0.2  iris_setosa\n",
       "3          4.6         3.1          1.5         0.2  iris_setosa\n",
       "4          5.0         3.6          1.4         0.2  iris_setosa"
      ]
     },
     "execution_count": 5,
     "metadata": {},
     "output_type": "execute_result"
    }
   ],
   "source": [
    "# 5 primeras filas del df correcto\n",
    "iris_df.head()"
   ]
  },
  {
   "cell_type": "code",
   "execution_count": 8,
   "id": "dfec26d3-c4d4-4def-8ebd-1aa05a6b7edd",
   "metadata": {},
   "outputs": [
    {
     "name": "stdout",
     "output_type": "stream",
     "text": [
      "<class 'pandas.core.frame.DataFrame'>\n",
      "RangeIndex: 150 entries, 0 to 149\n",
      "Data columns (total 5 columns):\n",
      " #   Column       Non-Null Count  Dtype  \n",
      "---  ------       --------------  -----  \n",
      " 0   sepallength  150 non-null    float64\n",
      " 1   sepalwidth   150 non-null    float64\n",
      " 2   petallength  150 non-null    float64\n",
      " 3   petalwidth   150 non-null    float64\n",
      " 4   class        150 non-null    object \n",
      "dtypes: float64(4), object(1)\n",
      "memory usage: 6.0+ KB\n"
     ]
    }
   ],
   "source": [
    "# info de las columnas del df\n",
    "iris_df.info()"
   ]
  },
  {
   "cell_type": "markdown",
   "id": "533535d5-e973-464a-87dd-98e6437c09d0",
   "metadata": {},
   "source": [
    "- Observamos que el iris_df tiene 150 filas y 5 columnas. \n",
    "- Los tipos de datos de las columnas son float64 para 4 de las columnas y object para la columna class. \n",
    "- Los nombres de las columnas son \"sepallength\", \"sepalwidth\", \"petallength\", \"petalwidth\", y \"class\".\n",
    "- Todas las columnas tienen 150 valores no nulos, lo que significa que no hay valores perdidos (missing values) en el df."
   ]
  },
  {
   "cell_type": "markdown",
   "id": "16cc73f5-a064-4367-a3a2-4dcdbeb5ea47",
   "metadata": {},
   "source": [
    "\n"
   ]
  },
  {
   "cell_type": "code",
   "execution_count": 9,
   "id": "96e777f2-c923-467e-b2d4-a2585f5061fd",
   "metadata": {},
   "outputs": [
    {
     "data": {
      "text/html": [
       "<div>\n",
       "<style scoped>\n",
       "    .dataframe tbody tr th:only-of-type {\n",
       "        vertical-align: middle;\n",
       "    }\n",
       "\n",
       "    .dataframe tbody tr th {\n",
       "        vertical-align: top;\n",
       "    }\n",
       "\n",
       "    .dataframe thead th {\n",
       "        text-align: right;\n",
       "    }\n",
       "</style>\n",
       "<table border=\"1\" class=\"dataframe\">\n",
       "  <thead>\n",
       "    <tr style=\"text-align: right;\">\n",
       "      <th></th>\n",
       "      <th>sepallength</th>\n",
       "      <th>sepalwidth</th>\n",
       "      <th>petallength</th>\n",
       "      <th>petalwidth</th>\n",
       "    </tr>\n",
       "  </thead>\n",
       "  <tbody>\n",
       "    <tr>\n",
       "      <th>count</th>\n",
       "      <td>150.000000</td>\n",
       "      <td>150.000000</td>\n",
       "      <td>150.000000</td>\n",
       "      <td>150.000000</td>\n",
       "    </tr>\n",
       "    <tr>\n",
       "      <th>mean</th>\n",
       "      <td>5.843333</td>\n",
       "      <td>3.054000</td>\n",
       "      <td>3.758667</td>\n",
       "      <td>1.198667</td>\n",
       "    </tr>\n",
       "    <tr>\n",
       "      <th>std</th>\n",
       "      <td>0.828066</td>\n",
       "      <td>0.433594</td>\n",
       "      <td>1.764420</td>\n",
       "      <td>0.763161</td>\n",
       "    </tr>\n",
       "    <tr>\n",
       "      <th>min</th>\n",
       "      <td>4.300000</td>\n",
       "      <td>2.000000</td>\n",
       "      <td>1.000000</td>\n",
       "      <td>0.100000</td>\n",
       "    </tr>\n",
       "    <tr>\n",
       "      <th>25%</th>\n",
       "      <td>5.100000</td>\n",
       "      <td>2.800000</td>\n",
       "      <td>1.600000</td>\n",
       "      <td>0.300000</td>\n",
       "    </tr>\n",
       "    <tr>\n",
       "      <th>50%</th>\n",
       "      <td>5.800000</td>\n",
       "      <td>3.000000</td>\n",
       "      <td>4.350000</td>\n",
       "      <td>1.300000</td>\n",
       "    </tr>\n",
       "    <tr>\n",
       "      <th>75%</th>\n",
       "      <td>6.400000</td>\n",
       "      <td>3.300000</td>\n",
       "      <td>5.100000</td>\n",
       "      <td>1.800000</td>\n",
       "    </tr>\n",
       "    <tr>\n",
       "      <th>max</th>\n",
       "      <td>7.900000</td>\n",
       "      <td>4.400000</td>\n",
       "      <td>6.900000</td>\n",
       "      <td>2.500000</td>\n",
       "    </tr>\n",
       "  </tbody>\n",
       "</table>\n",
       "</div>"
      ],
      "text/plain": [
       "       sepallength  sepalwidth  petallength  petalwidth\n",
       "count   150.000000  150.000000   150.000000  150.000000\n",
       "mean      5.843333    3.054000     3.758667    1.198667\n",
       "std       0.828066    0.433594     1.764420    0.763161\n",
       "min       4.300000    2.000000     1.000000    0.100000\n",
       "25%       5.100000    2.800000     1.600000    0.300000\n",
       "50%       5.800000    3.000000     4.350000    1.300000\n",
       "75%       6.400000    3.300000     5.100000    1.800000\n",
       "max       7.900000    4.400000     6.900000    2.500000"
      ]
     },
     "execution_count": 9,
     "metadata": {},
     "output_type": "execute_result"
    }
   ],
   "source": [
    "# estadísticas descriptivas \n",
    "iris_df.describe()"
   ]
  },
  {
   "cell_type": "markdown",
   "id": "c30d202f-6bf5-4cc6-9d28-02a6853ac540",
   "metadata": {},
   "source": [
    "- El método df.describe() genera estadísticas descriptivas de un df. Obtenemos el recuento, la media, la desviación estándar, el mínimo, el primer cuartil (25%), la mediana (50%), el tercer cuartil (75%) y el máximo de cada columna.\n",
    "\n",
    "- Esta información puede ser útil para comprender la distribución y el rango de valores de cada columna del df.\n",
    "\n",
    "- El iris datsaset contiene mediciones de 4 características (sepallength, sepalwidth, petallength y petalwidth) de 150 flores de Iris diferentes. Estas características se utilizan para distinguir entre 3 especies diferentes de Iris: Iris setosa, Iris virginica e Iris versicolor.\n",
    "- Observando las estadísticas resumidas del conjunto de datos, podemos observar, por ejemplo, que los valores medios de las cuatro características están próximos a la mediana (50%), lo que indica que los datos son bastante simétricos. \n",
    "\n",
    "- En general, el iris_df parece bastante limpio y con un buen comportamiento, sin problemas importantes como falta de datos o valores atípicos. \n"
   ]
  },
  {
   "cell_type": "markdown",
   "id": "d00e93d5-eb0a-4223-873c-f3344d56073b",
   "metadata": {},
   "source": [
    "### Distribución de cada variable"
   ]
  },
  {
   "cell_type": "code",
   "execution_count": 10,
   "id": "c0fe3190-fcf1-4db7-a22f-8cd8ee3eeb44",
   "metadata": {},
   "outputs": [
    {
     "data": {
      "image/png": "[encoded data removed]",
      "text/plain": [
       "<Figure size 2500x1500 with 4 Axes>"
      ]
     },
     "metadata": {},
     "output_type": "display_data"
    }
   ],
   "source": [
    "# creating a figure and a 3x3 grid of subplots\n",
    "fig, axs = plt.subplots(nrows=2, ncols=2, figsize=(25, 15))\n",
    "\n",
    "# seaborn's histplot to plot histograms on the subplots\n",
    "sns.histplot(data=iris_df, x='sepallength', element='step', stat='density', ax=axs[0, 0])\n",
    "sns.histplot(data=iris_df, x='sepalwidth', element='step', stat='density', ax=axs[0, 1])\n",
    "sns.histplot(data=iris_df, x='petallength', element='step', stat='density', ax=axs[1, 1])\n",
    "sns.histplot(data=iris_df, x='petalwidth', element='step', stat='density', ax=axs[1, 0])\n",
    "\n",
    "# axis labels\n",
    "axs[0, 0].set(xlabel='sepallength', ylabel='Density')\n",
    "axs[0, 1].set(xlabel='sepalwidth', ylabel='Density')\n",
    "axs[1, 1].set(xlabel='petallength', ylabel='Density')\n",
    "axs[1, 0].set(xlabel='petalwidth', ylabel='Density')\n",
    "\n",
    "# adjusting the spacing between the subplots\n",
    "plt.tight_layout()\n",
    "\n",
    "# showing the plot\n",
    "plt.show()"
   ]
  },
  {
   "cell_type": "markdown",
   "id": "fcb96795-641d-4f6d-804a-4b9c2d6d248b",
   "metadata": {},
   "source": [
    "- Observamos que sepallegnth y sepalwidth se distribuyen de manera más normal que petalwidth y petallength, que tienen una asimetría positiva. \n"
   ]
  },
  {
   "cell_type": "markdown",
   "id": "fe4271cb-71d1-465c-bcd8-0a89727581f7",
   "metadata": {},
   "source": [
    "### Comprobación del desequilibrio de clases"
   ]
  },
  {
   "cell_type": "code",
   "execution_count": 6,
   "id": "49e6e3ab-2502-4217-8804-d16a28a15f13",
   "metadata": {},
   "outputs": [
    {
     "name": "stdout",
     "output_type": "stream",
     "text": [
      "iris_setosa        50\n",
      "iris_versicolor    50\n",
      "iris_virginica     50\n",
      "Name: class, dtype: int64\n"
     ]
    }
   ],
   "source": [
    "# Checking data imbalance \n",
    "print(iris_df['class'].value_counts()) # recuento de instancias de cada clase en el df"
   ]
  },
  {
   "cell_type": "code",
   "execution_count": 13,
   "id": "20aa9fd8-66da-4498-962a-0dacba91b84c",
   "metadata": {},
   "outputs": [
    {
     "data": {
      "image/png": "[encoded data removed]",
      "text/plain": [
       "<Figure size 640x480 with 1 Axes>"
      ]
     },
     "metadata": {},
     "output_type": "display_data"
    }
   ],
   "source": [
    "# plot del count\n",
    "sns.countplot(x = iris_df['class'], color = 'blue')\n",
    "plt.show()"
   ]
  },
  {
   "cell_type": "markdown",
   "id": "216a8884-33bc-4489-8bd5-a693b0320196",
   "metadata": {},
   "source": [
    "- Podemos observar que el iris_df está bien equilibrado, con el mismo número de instancias (50) para cada una de las tres especies de Iris: Iris setosa, Iris versicolor e Iris virginica. \n",
    "- Esto significa que los datos se distribuyen uniformemente entre las tres clases y que no hay desequilibrio de clases (dataset balanceado).\n"
   ]
  },
  {
   "cell_type": "markdown",
   "id": "d09dfd6c-8665-41e8-a39e-0e9f2d3be435",
   "metadata": {
    "tags": []
   },
   "source": [
    "### Separar las variables independientes de la variable dependiente\n",
    "- Separar en atributos (X) y etiquetas (y).\n",
    "- Las columnas del conjunto de datos se pueden separar en feature columns (X) y target column (y)."
   ]
  },
  {
   "cell_type": "code",
   "execution_count": 7,
   "id": "c3ce9e63-ce28-480a-82c6-e39b0884b134",
   "metadata": {},
   "outputs": [],
   "source": [
    "# variables independientes (feature columns): las variables que se utilizan para predecir la variable objetivo (y)\n",
    "X_iris = iris_df.iloc[:, :-1].values\n",
    "# variable dependiente (target column): en nuestro caso 'class'\n",
    "y_iris = iris_df.iloc[:, -1].values"
   ]
  },
  {
   "cell_type": "markdown",
   "id": "06304730-479c-4e85-91d1-baa6f59a19d1",
   "metadata": {},
   "source": [
    "### Escalar los atributos"
   ]
  },
  {
   "cell_type": "code",
   "execution_count": 14,
   "id": "5373e97d-2169-49d1-8310-1304c9a20196",
   "metadata": {},
   "outputs": [],
   "source": [
    "scaler = StandardScaler()\n",
    "scaler.fit(X_iris)\n",
    "\n",
    "X_scaled_iris = scaler.transform(X_iris)"
   ]
  },
  {
   "cell_type": "markdown",
   "id": "e6d1ef48-b835-49d1-85f9-5923b33dfd0e",
   "metadata": {},
   "source": [
    "- Escalamos para que el algoritmo le dé la misma importancia a todos los datos.\n",
    "- Algoritmos como KNN se basan en la distancia entre los puntos de datos, por lo que es importante que las features estén en la misma escala.\n",
    "- El resultado es un nuevo conjunto de valores que tienen una distribución normal estándar (una distribución gaussiana con una media de 0 y una desviación estándar de 1).\n",
    "\n",
    "- Ahora los tenemos todos dentro de un mismo rango o intervalo.\n",
    "- La variable X_scaled contiene la versión estandarizada de la feature data almacenada en X.\n"
   ]
  },
  {
   "cell_type": "markdown",
   "id": "6bb8e228-0ce5-47ae-930b-d77b5f09e32e",
   "metadata": {},
   "source": [
    "### Algoritmo KNN"
   ]
  },
  {
   "cell_type": "markdown",
   "id": "230fd8ff-7ef8-43e8-bf8b-050f625ed027",
   "metadata": {},
   "source": [
    "#### Para k=2"
   ]
  },
  {
   "cell_type": "markdown",
   "id": "211cfe01-de62-4645-88fc-e1dd19091040",
   "metadata": {
    "tags": []
   },
   "source": [
    "##### Preparación algoritmo KNN\n"
   ]
  },
  {
   "cell_type": "code",
   "execution_count": 15,
   "id": "58caf194-6ac1-49bb-8fc3-52dacfc0da64",
   "metadata": {
    "tags": []
   },
   "outputs": [],
   "source": [
    "knn_2_i = KNeighborsClassifier(n_neighbors = 2)\n",
    "\n",
    "# 10-Fold Stratified Cross-Validation \n",
    "skf_i = StratifiedKFold(n_splits=10, random_state=None, shuffle=False)\n",
    "# random_state = None: el generador de números aleatorios utilizará un valor de semilla diferente \n",
    "    # cada vez que se ejecute el código, lo que resultará en un barajado diferente de los datos cada vez.\n",
    "# shuffle=False: los datos se utilizan en el orden del conjunto de datos de entrada y no se barajan.\n",
    "\n",
    "\n",
    "## Arrays para almacenar los resultados de cada iteración\n",
    "cm_list_i = []\n",
    "accu_list_i = []\n",
    "prec_list_i = []\n",
    "recall_list_i = []\n",
    "f1_list_i = []"
   ]
  },
  {
   "cell_type": "markdown",
   "id": "9a32e483-a77d-4120-ab75-906c03960e2f",
   "metadata": {},
   "source": [
    "- Cuando random_state se establece en None y el parámetro shuffle es False, los datos siempre se dividen tal cual, sin barajar ni aleatorizar los datos. Esto significa que las observaciones se utilizan en el orden del conjunto de datos de entrada.\n",
    "- Por tanto, en este caso, cuando random_state=None y shuffle=False, significa que no hay aleatorización al crear los pliegues (folds), los datos no se barajan y las observaciones se utilizan en el orden del conjunto de datos de entrada. El resultado será el mismo cada vez que se ejecute el código.\n",
    "- Esto puede ser útil queremos comparar los resultados del modelo bajo diferentes condiciones, o si queremos asegurar la reproducibilidad de los resultados (queremos que utilice la misma división cada vez que se ejecute el código).\n",
    "- No obstante, dejando de lado el ejercicio, es bueno que vaya cambiando, ya que si vemos que el cojunto de training y test varían mucho, no tenemos datos estables para el problema que queremos resolver."
   ]
  },
  {
   "cell_type": "markdown",
   "id": "31599f25-ef05-4521-9a0f-1896d4bbd3af",
   "metadata": {},
   "source": [
    "##### Ejecución algoritmo KNN"
   ]
  },
  {
   "cell_type": "markdown",
   "id": "7c3cb337-e4c7-4441-91ba-a3fd763feec9",
   "metadata": {},
   "source": [
    "- Se trata de un problema de clasificación multiclase.\n",
    "- average='macro' calculará la métrica independientemente para cada clase y luego sacará la media. Las métricas macro promediadas darán el mismo peso a cada clase, independientemente del desequilibrio de clases.\n",
    "- Dado que el conjunto de datos Iris está equilibrado, tanto micro como macro darán resultados similares. En este caso usaremos la métrica macro-promediada. "
   ]
  },
  {
   "cell_type": "code",
   "execution_count": 20,
   "id": "ed313e33-1665-4b3b-897b-a8e28051fafc",
   "metadata": {
    "tags": []
   },
   "outputs": [
    {
     "name": "stdout",
     "output_type": "stream",
     "text": [
      "Iteración: 1\n",
      "Fold accuracy: 1.00\n",
      "Matriz de Confusión:\n",
      " [[5 0 0]\n",
      " [0 5 0]\n",
      " [0 0 5]]\n",
      "\n",
      "Accuracy: 1.0\n",
      "Precision: 1.0\n",
      "Recall: 1.0\n",
      "F1-Score: 1.0\n",
      "******\n",
      "\n",
      "Iteración: 2\n",
      "Fold accuracy: 0.93\n",
      "Matriz de Confusión:\n",
      " [[5 0 0]\n",
      " [0 5 0]\n",
      " [0 1 4]]\n",
      "\n",
      "Accuracy: 0.9333333333333333\n",
      "Precision: 0.9444444444444445\n",
      "Recall: 0.9333333333333332\n",
      "F1-Score: 0.9326599326599326\n",
      "******\n",
      "\n",
      "Iteración: 3\n",
      "Fold accuracy: 1.00\n",
      "Matriz de Confusión:\n",
      " [[5 0 0]\n",
      " [0 5 0]\n",
      " [0 0 5]]\n",
      "\n",
      "Accuracy: 1.0\n",
      "Precision: 1.0\n",
      "Recall: 1.0\n",
      "F1-Score: 1.0\n",
      "******\n",
      "\n",
      "Iteración: 4\n",
      "Fold accuracy: 0.93\n",
      "Matriz de Confusión:\n",
      " [[5 0 0]\n",
      " [0 5 0]\n",
      " [0 1 4]]\n",
      "\n",
      "Accuracy: 0.9333333333333333\n",
      "Precision: 0.9444444444444445\n",
      "Recall: 0.9333333333333332\n",
      "F1-Score: 0.9326599326599326\n",
      "******\n",
      "\n",
      "Iteración: 5\n",
      "Fold accuracy: 0.87\n",
      "Matriz de Confusión:\n",
      " [[5 0 0]\n",
      " [0 3 2]\n",
      " [0 0 5]]\n",
      "\n",
      "Accuracy: 0.8666666666666667\n",
      "Precision: 0.9047619047619048\n",
      "Recall: 0.8666666666666667\n",
      "F1-Score: 0.861111111111111\n",
      "******\n",
      "\n",
      "Iteración: 6\n",
      "Fold accuracy: 1.00\n",
      "Matriz de Confusión:\n",
      " [[5 0 0]\n",
      " [0 5 0]\n",
      " [0 0 5]]\n",
      "\n",
      "Accuracy: 1.0\n",
      "Precision: 1.0\n",
      "Recall: 1.0\n",
      "F1-Score: 1.0\n",
      "******\n",
      "\n",
      "Iteración: 7\n",
      "Fold accuracy: 0.80\n",
      "Matriz de Confusión:\n",
      " [[5 0 0]\n",
      " [0 4 1]\n",
      " [0 2 3]]\n",
      "\n",
      "Accuracy: 0.8\n",
      "Precision: 0.8055555555555555\n",
      "Recall: 0.7999999999999999\n",
      "F1-Score: 0.7979797979797979\n",
      "******\n",
      "\n",
      "Iteración: 8\n",
      "Fold accuracy: 1.00\n",
      "Matriz de Confusión:\n",
      " [[5 0 0]\n",
      " [0 5 0]\n",
      " [0 0 5]]\n",
      "\n",
      "Accuracy: 1.0\n",
      "Precision: 1.0\n",
      "Recall: 1.0\n",
      "F1-Score: 1.0\n",
      "******\n",
      "\n",
      "Iteración: 9\n",
      "Fold accuracy: 1.00\n",
      "Matriz de Confusión:\n",
      " [[5 0 0]\n",
      " [0 5 0]\n",
      " [0 0 5]]\n",
      "\n",
      "Accuracy: 1.0\n",
      "Precision: 1.0\n",
      "Recall: 1.0\n",
      "F1-Score: 1.0\n",
      "******\n",
      "\n",
      "Iteración: 10\n",
      "Fold accuracy: 1.00\n",
      "Matriz de Confusión:\n",
      " [[5 0 0]\n",
      " [0 5 0]\n",
      " [0 0 5]]\n",
      "\n",
      "Accuracy: 1.0\n",
      "Precision: 1.0\n",
      "Recall: 1.0\n",
      "F1-Score: 1.0\n",
      "******\n",
      "\n"
     ]
    }
   ],
   "source": [
    "n_iter_i = 0 ## Contador número de iteraciones del Cross-Validation\n",
    "\n",
    "# Evaluamos el modelo usando cross-validation\n",
    "for train_index_i, test_index_i in skf_i.split(X_scaled_iris, y_iris):\n",
    "    \n",
    "    n_iter_i +=1\n",
    "    print('Iteración:',n_iter_i)\n",
    "    \n",
    "    ## División del dataset en entrenamiento y test\n",
    "    X_train_i, X_test_i = X_scaled_iris[train_index_i], X_scaled_iris[test_index_i]\n",
    "    y_train_i, y_test_i = y_iris[train_index_i], y_iris[test_index_i]\n",
    "    \n",
    "    ## Entrenar el algoritmo\n",
    "    knn_2_i.fit(X_train_i, y_train_i)\n",
    "    score_i = knn_2_i.score(X_test_i, y_test_i)\n",
    "    print(\"Fold accuracy: {:.2f}\".format(score_i))\n",
    "    \n",
    "    ## Predicción del algoritmo\n",
    "    y_pred_i = knn_2_i.predict(X_test_i)\n",
    "    \n",
    "    ## Métricas de evaluación\n",
    "    cm_i = confusion_matrix(y_test_i, y_pred_i)\n",
    "    accu_i = accuracy_score(y_test_i, y_pred_i)\n",
    "    prec_i = precision_score(y_test_i, y_pred_i, average='macro')\n",
    "    recall_i = recall_score(y_test_i, y_pred_i, average='macro')\n",
    "    f1_i = f1_score(y_test_i, y_pred_i, average='macro')\n",
    "    \n",
    "    ## Guardar resultados métricas de evaluación de cada iteración\n",
    "    cm_list_i.append(cm_i)\n",
    "    accu_list_i.append(accu_i)\n",
    "    prec_list_i.append(prec_i)\n",
    "    recall_list_i.append(recall_i)\n",
    "    f1_list_i.append(f1_i)\n",
    "    \n",
    "    ## Imprimir Métricas de evaluación en cada iteración\n",
    "    print('Matriz de Confusión:\\n',cm_i)\n",
    "    print('')\n",
    "    print('Accuracy:',accu_i)\n",
    "    print('Precision:',prec_i)\n",
    "    print('Recall:',recall_i)\n",
    "    print('F1-Score:',f1_i)\n",
    "    print('******\\n')"
   ]
  },
  {
   "cell_type": "markdown",
   "id": "77efb8b9-6335-46d8-9006-97d59a5284c8",
   "metadata": {},
   "source": [
    "- Podemos observar el resultado de una 10-Fold Stratified Cross-Validation de un clasificador KNN con k=2. En este caso, el conjunto de datos se divide en 10 pliegues o folds y el clasificador KNN se entrena y evalúa en cada pliegue por separado. \n",
    "\n",
    "- La accuracy de todas las iteraciones se sitúa entre 0.87 y 1, lo que sugiere que el clasificador KNN es capaz de predecir correctamente la clase de la mayoría de las muestras del dataset.\n",
    "\n",
    "- La precision, el recall y la F1-score también son elevadas, y en el peor de los casos se sitúan en torno a 0.8. Estas tres métricas indican que el clasificador es capaz de clasificar correctamente un alto porcentaje de los casos positivos y que no clasifica erróneamente como positivos muchos de los casos negativos.\n",
    "\n",
    "- Las matrices de confusión muestran que el clasificador funcionó bien en iris setosa. Sin embargo, en algunas iteraciones, el clasificador clasifica erróneamente iris versicolor e iris virginica. Una posible razón podría ser que estas dos clases son más difíciles de separar. "
   ]
  },
  {
   "cell_type": "markdown",
   "id": "fc7cdc07-0dd1-4130-b47b-96be286ba243",
   "metadata": {},
   "source": [
    "##### Evaluación final del algoritmo KNN\n"
   ]
  },
  {
   "cell_type": "code",
   "execution_count": 18,
   "id": "bfc2adee-3eb1-4331-bca8-17404bfb80d0",
   "metadata": {
    "tags": []
   },
   "outputs": [
    {
     "name": "stdout",
     "output_type": "stream",
     "text": [
      "Matriz de Confusión:\n",
      " [[5 0 0]\n",
      " [0 4 0]\n",
      " [0 0 4]]\n",
      "\n",
      "Accuracy: 0.953\n",
      "Precision: 0.96\n",
      "Recall: 0.953\n",
      "F1-Score: 0.952\n",
      "******\n",
      "\n"
     ]
    }
   ],
   "source": [
    "cm_mean_i = np.mean(cm_list_i, axis=0).astype(int)\n",
    "accu_mean_i = np.mean(accu_list_i, axis=0)\n",
    "prec_mean_i = np.mean(prec_list_i, axis=0)\n",
    "recall_mean_i = np.mean(recall_list_i, axis=0)\n",
    "f1_mean_i = np.mean(f1_list_i, axis=0)\n",
    "\n",
    "print('Matriz de Confusión:\\n',cm_mean_i)\n",
    "print('')\n",
    "print('Accuracy:',np.round(accu_mean_i,3))\n",
    "print('Precision:',np.round(prec_mean_i,3))\n",
    "print('Recall:',np.round(recall_mean_i,3))\n",
    "print('F1-Score:',np.round(f1_mean_i,3))\n",
    "print('******\\n')"
   ]
  },
  {
   "cell_type": "markdown",
   "id": "c64473c9-7847-4557-9886-3976641330d3",
   "metadata": {},
   "source": [
    "- Obtenemos el resultado de promediar el rendimiento del clasificador en varias ejecuciones. La matriz de confusión, la accuracy, la precision, el recall y el F1-score se calculan para cada ejecución y, a continuación, se calculan los valores medios.\n",
    "\n",
    "- La matriz de confusión muestra que el clasificador funciona bien en la mayoría de los casos. \n",
    "\n",
    "- Las métricas generales de rendimiento son superiores a 0.95, lo que sugiere que el clasificador es capaz de predecir la clase correcta para un gran porcentaje de las muestras.\n",
    "\n",
    "- El modelo tiene una accuracy del 0.953, lo que sugiere que el modelo clasificó correctamente el 95.3% de las muestras. \n",
    "\n",
    "- La precisión del modelo es de 0.96, lo que significa que de todas las muestras clasificadas como positivas, el 96% son verdaderos positivos.\n",
    "\n",
    "- El recall del modelo es de 0.953, lo significa que de todas las muestras del iris_df, el modelo fue capaz de identificar correctamente el 95.3% de ellas.\n",
    "\n",
    "- El F1-score de 0.952 indica un equilibrio entre la precision y el recall del modelo."
   ]
  },
  {
   "cell_type": "markdown",
   "id": "716f3a59-f97f-4198-ad49-7195b2de1a6f",
   "metadata": {},
   "source": [
    "#### Para k=4"
   ]
  },
  {
   "cell_type": "markdown",
   "id": "10690b94-272e-40a3-b1ce-dcc73546686d",
   "metadata": {
    "tags": []
   },
   "source": [
    "##### Preparación algoritmo KNN\n"
   ]
  },
  {
   "cell_type": "code",
   "execution_count": 27,
   "id": "9228bb2e-466c-452c-9eb1-1c12ca7b2c03",
   "metadata": {
    "tags": []
   },
   "outputs": [],
   "source": [
    "knn_4_i = KNeighborsClassifier(n_neighbors = 4)\n",
    "\n",
    "# 10-Fold Stratified Cross-Validation \n",
    "skf_i = StratifiedKFold(n_splits=10, random_state=None, shuffle=False)\n",
    "# random_state = None: el generador de números aleatorios utilizará un valor de semilla diferente \n",
    "    # cada vez que se ejecute el código, lo que resultará en un barajado diferente de los datos cada vez.\n",
    "# shuffle=False: los datos se utilizan en el orden del conjunto de datos de entrada y no se barajan.\n",
    "\n",
    "\n",
    "## Arrays para almacenar los resultados de cada iteración\n",
    "cm_list_i = []\n",
    "accu_list_i = []\n",
    "prec_list_i = []\n",
    "recall_list_i = []\n",
    "f1_list_i = []"
   ]
  },
  {
   "cell_type": "markdown",
   "id": "0e72ec1b-14a1-4245-99ab-f52eb269779d",
   "metadata": {},
   "source": [
    "##### Ejecución algoritmo KNN"
   ]
  },
  {
   "cell_type": "code",
   "execution_count": 28,
   "id": "9e85cfa1-3661-449e-ae6a-bce94486c406",
   "metadata": {
    "tags": []
   },
   "outputs": [
    {
     "name": "stdout",
     "output_type": "stream",
     "text": [
      "Iteración: 1\n",
      "Fold accuracy: 1.00\n",
      "Matriz de Confusión:\n",
      " [[5 0 0]\n",
      " [0 5 0]\n",
      " [0 0 5]]\n",
      "\n",
      "Accuracy: 1.0\n",
      "Precision: 1.0\n",
      "Recall: 1.0\n",
      "F1-Score: 1.0\n",
      "******\n",
      "\n",
      "Iteración: 2\n",
      "Fold accuracy: 0.93\n",
      "Matriz de Confusión:\n",
      " [[5 0 0]\n",
      " [0 5 0]\n",
      " [0 1 4]]\n",
      "\n",
      "Accuracy: 0.9333333333333333\n",
      "Precision: 0.9444444444444445\n",
      "Recall: 0.9333333333333332\n",
      "F1-Score: 0.9326599326599326\n",
      "******\n",
      "\n",
      "Iteración: 3\n",
      "Fold accuracy: 1.00\n",
      "Matriz de Confusión:\n",
      " [[5 0 0]\n",
      " [0 5 0]\n",
      " [0 0 5]]\n",
      "\n",
      "Accuracy: 1.0\n",
      "Precision: 1.0\n",
      "Recall: 1.0\n",
      "F1-Score: 1.0\n",
      "******\n",
      "\n",
      "Iteración: 4\n",
      "Fold accuracy: 0.93\n",
      "Matriz de Confusión:\n",
      " [[5 0 0]\n",
      " [0 5 0]\n",
      " [0 1 4]]\n",
      "\n",
      "Accuracy: 0.9333333333333333\n",
      "Precision: 0.9444444444444445\n",
      "Recall: 0.9333333333333332\n",
      "F1-Score: 0.9326599326599326\n",
      "******\n",
      "\n",
      "Iteración: 5\n",
      "Fold accuracy: 0.93\n",
      "Matriz de Confusión:\n",
      " [[5 0 0]\n",
      " [0 4 1]\n",
      " [0 0 5]]\n",
      "\n",
      "Accuracy: 0.9333333333333333\n",
      "Precision: 0.9444444444444445\n",
      "Recall: 0.9333333333333332\n",
      "F1-Score: 0.9326599326599326\n",
      "******\n",
      "\n",
      "Iteración: 6\n",
      "Fold accuracy: 1.00\n",
      "Matriz de Confusión:\n",
      " [[5 0 0]\n",
      " [0 5 0]\n",
      " [0 0 5]]\n",
      "\n",
      "Accuracy: 1.0\n",
      "Precision: 1.0\n",
      "Recall: 1.0\n",
      "F1-Score: 1.0\n",
      "******\n",
      "\n",
      "Iteración: 7\n",
      "Fold accuracy: 0.80\n",
      "Matriz de Confusión:\n",
      " [[5 0 0]\n",
      " [0 4 1]\n",
      " [0 2 3]]\n",
      "\n",
      "Accuracy: 0.8\n",
      "Precision: 0.8055555555555555\n",
      "Recall: 0.7999999999999999\n",
      "F1-Score: 0.7979797979797979\n",
      "******\n",
      "\n",
      "Iteración: 8\n",
      "Fold accuracy: 0.93\n",
      "Matriz de Confusión:\n",
      " [[5 0 0]\n",
      " [0 5 0]\n",
      " [0 1 4]]\n",
      "\n",
      "Accuracy: 0.9333333333333333\n",
      "Precision: 0.9444444444444445\n",
      "Recall: 0.9333333333333332\n",
      "F1-Score: 0.9326599326599326\n",
      "******\n",
      "\n",
      "Iteración: 9\n",
      "Fold accuracy: 1.00\n",
      "Matriz de Confusión:\n",
      " [[5 0 0]\n",
      " [0 5 0]\n",
      " [0 0 5]]\n",
      "\n",
      "Accuracy: 1.0\n",
      "Precision: 1.0\n",
      "Recall: 1.0\n",
      "F1-Score: 1.0\n",
      "******\n",
      "\n",
      "Iteración: 10\n",
      "Fold accuracy: 0.93\n",
      "Matriz de Confusión:\n",
      " [[5 0 0]\n",
      " [0 5 0]\n",
      " [0 1 4]]\n",
      "\n",
      "Accuracy: 0.9333333333333333\n",
      "Precision: 0.9444444444444445\n",
      "Recall: 0.9333333333333332\n",
      "F1-Score: 0.9326599326599326\n",
      "******\n",
      "\n"
     ]
    }
   ],
   "source": [
    "n_iter_i = 0 ## Contador número de iteraciones del Cross-Validation\n",
    "\n",
    "# Evaluamos el modelo usando cross-validation\n",
    "for train_index_i, test_index_i in skf_i.split(X_scaled_iris, y_iris):\n",
    "    \n",
    "    n_iter_i +=1\n",
    "    print('Iteración:',n_iter_i)\n",
    "    \n",
    "    ## División del dataset en entrenamiento y test\n",
    "    X_train_i, X_test_i = X_scaled_iris[train_index_i], X_scaled_iris[test_index_i]\n",
    "    y_train_i, y_test_i = y_iris[train_index_i], y_iris[test_index_i]\n",
    "\n",
    "    ## Entrenar el algoritmo\n",
    "    knn_4_i.fit(X_train_i, y_train_i)\n",
    "    score_i = knn_4_i.score(X_test_i, y_test_i)\n",
    "    print(\"Fold accuracy: {:.2f}\".format(score_i))\n",
    "    \n",
    "    ## Predicción del algoritmo\n",
    "    y_pred_i = knn_4_i.predict(X_test_i)\n",
    "    \n",
    "    ## Métricas de evaluación\n",
    "    cm_i = confusion_matrix(y_test_i, y_pred_i)\n",
    "    accu_i = accuracy_score(y_test_i, y_pred_i)\n",
    "    prec_i = precision_score(y_test_i, y_pred_i, average='macro')\n",
    "    recall_i = recall_score(y_test_i, y_pred_i, average='macro')\n",
    "    f1_i = f1_score(y_test_i, y_pred_i, average='macro')\n",
    "    \n",
    "    ## Guardar resultados métricas de evaluación de cada iteración\n",
    "    cm_list_i.append(cm_i)\n",
    "    accu_list_i.append(accu_i)\n",
    "    prec_list_i.append(prec_i)\n",
    "    recall_list_i.append(recall_i)\n",
    "    f1_list_i.append(f1_i)\n",
    "    \n",
    "    ## Imprimir Métricas de evaluación en cada iteración\n",
    "    print('Matriz de Confusión:\\n',cm_i)\n",
    "    print('')\n",
    "    print('Accuracy:',accu_i)\n",
    "    print('Precision:',prec_i)\n",
    "    print('Recall:',recall_i)\n",
    "    print('F1-Score:',f1_i)\n",
    "    print('******\\n')"
   ]
  },
  {
   "cell_type": "markdown",
   "id": "d1f0ab6e-bd4f-4c1e-accd-492f6c9c3ceb",
   "metadata": {},
   "source": [
    "##### Evaluación final del algoritmo KNN\n"
   ]
  },
  {
   "cell_type": "code",
   "execution_count": 29,
   "id": "c558f6ab-c2db-4d45-824c-0486b09105de",
   "metadata": {
    "tags": []
   },
   "outputs": [
    {
     "name": "stdout",
     "output_type": "stream",
     "text": [
      "Matriz de Confusión:\n",
      " [[5 0 0]\n",
      " [0 4 0]\n",
      " [0 0 4]]\n",
      "\n",
      "Accuracy: 0.947\n",
      "Precision: 0.953\n",
      "Recall: 0.947\n",
      "F1-Score: 0.946\n",
      "******\n",
      "\n"
     ]
    }
   ],
   "source": [
    "cm_mean_i = np.mean(cm_list_i, axis=0).astype(int)\n",
    "accu_mean_i = np.mean(accu_list_i, axis=0)\n",
    "prec_mean_i = np.mean(prec_list_i, axis=0)\n",
    "recall_mean_i = np.mean(recall_list_i, axis=0)\n",
    "f1_mean_i = np.mean(f1_list_i, axis=0)\n",
    "\n",
    "print('Matriz de Confusión:\\n',cm_mean_i)\n",
    "print('')\n",
    "print('Accuracy:',np.round(accu_mean_i,3))\n",
    "print('Precision:',np.round(prec_mean_i,3))\n",
    "print('Recall:',np.round(recall_mean_i,3))\n",
    "print('F1-Score:',np.round(f1_mean_i,3))\n",
    "print('******\\n')"
   ]
  },
  {
   "cell_type": "markdown",
   "id": "a886eca7-528c-4ada-b477-909e20f42d64",
   "metadata": {},
   "source": [
    "- Para k=4:\n",
    "    - Misma matriz de confusión que para k=2. \n",
    "    - Observamos que los valores medios de la accuracy, precision, recall y F1-Score son ligeramente peores que para k=2. Por tanto, el rendimiento del modelo no es tan bueno como k=2. Esto puede deberse a que a medida que k aumenta, el modelo tiende a ser más sensible al ruido.\n",
    "\n"
   ]
  },
  {
   "cell_type": "markdown",
   "id": "a4a98f8d-bac8-431a-a552-f6fd918f8cbc",
   "metadata": {},
   "source": [
    "#### Para k=6"
   ]
  },
  {
   "cell_type": "markdown",
   "id": "c2d3cbdd-d557-4972-93c7-808762d2696e",
   "metadata": {
    "tags": []
   },
   "source": [
    "##### Preparación algoritmo KNN\n"
   ]
  },
  {
   "cell_type": "code",
   "execution_count": 31,
   "id": "b4868e92-61e6-43f0-b644-2960ca8bbbc1",
   "metadata": {
    "tags": []
   },
   "outputs": [],
   "source": [
    "knn_6_i = KNeighborsClassifier(n_neighbors = 6)\n",
    "\n",
    "# 10-Fold Stratified Cross-Validation \n",
    "skf_i = StratifiedKFold(n_splits=10, random_state=None, shuffle=False)\n",
    "# random_state = None: el generador de números aleatorios utilizará un valor de semilla diferente \n",
    "    # cada vez que se ejecute el código, lo que resultará en un barajado diferente de los datos cada vez.\n",
    "# shuffle=False: los datos se utilizan en el orden del conjunto de datos de entrada y no se barajan.\n",
    "\n",
    "\n",
    "## Arrays para almacenar los resultados de cada iteración\n",
    "cm_list_i = []\n",
    "accu_list_i = []\n",
    "prec_list_i = []\n",
    "recall_list_i = []\n",
    "f1_list_i = []"
   ]
  },
  {
   "cell_type": "markdown",
   "id": "06120d64-4d5f-4144-994e-a16d31a49e80",
   "metadata": {},
   "source": [
    "##### Ejecución algoritmo KNN"
   ]
  },
  {
   "cell_type": "code",
   "execution_count": 32,
   "id": "1e609cfd-1b64-46c6-8fc3-5772ba69e569",
   "metadata": {
    "tags": []
   },
   "outputs": [
    {
     "name": "stdout",
     "output_type": "stream",
     "text": [
      "Iteración: 1\n",
      "Fold accuracy: 1.00\n",
      "Matriz de Confusión:\n",
      " [[5 0 0]\n",
      " [0 5 0]\n",
      " [0 0 5]]\n",
      "\n",
      "Accuracy: 1.0\n",
      "Precision: 1.0\n",
      "Recall: 1.0\n",
      "F1-Score: 1.0\n",
      "******\n",
      "\n",
      "Iteración: 2\n",
      "Fold accuracy: 0.93\n",
      "Matriz de Confusión:\n",
      " [[5 0 0]\n",
      " [0 5 0]\n",
      " [0 1 4]]\n",
      "\n",
      "Accuracy: 0.9333333333333333\n",
      "Precision: 0.9444444444444445\n",
      "Recall: 0.9333333333333332\n",
      "F1-Score: 0.9326599326599326\n",
      "******\n",
      "\n",
      "Iteración: 3\n",
      "Fold accuracy: 1.00\n",
      "Matriz de Confusión:\n",
      " [[5 0 0]\n",
      " [0 5 0]\n",
      " [0 0 5]]\n",
      "\n",
      "Accuracy: 1.0\n",
      "Precision: 1.0\n",
      "Recall: 1.0\n",
      "F1-Score: 1.0\n",
      "******\n",
      "\n",
      "Iteración: 4\n",
      "Fold accuracy: 0.93\n",
      "Matriz de Confusión:\n",
      " [[5 0 0]\n",
      " [0 5 0]\n",
      " [0 1 4]]\n",
      "\n",
      "Accuracy: 0.9333333333333333\n",
      "Precision: 0.9444444444444445\n",
      "Recall: 0.9333333333333332\n",
      "F1-Score: 0.9326599326599326\n",
      "******\n",
      "\n",
      "Iteración: 5\n",
      "Fold accuracy: 1.00\n",
      "Matriz de Confusión:\n",
      " [[5 0 0]\n",
      " [0 5 0]\n",
      " [0 0 5]]\n",
      "\n",
      "Accuracy: 1.0\n",
      "Precision: 1.0\n",
      "Recall: 1.0\n",
      "F1-Score: 1.0\n",
      "******\n",
      "\n",
      "Iteración: 6\n",
      "Fold accuracy: 1.00\n",
      "Matriz de Confusión:\n",
      " [[5 0 0]\n",
      " [0 5 0]\n",
      " [0 0 5]]\n",
      "\n",
      "Accuracy: 1.0\n",
      "Precision: 1.0\n",
      "Recall: 1.0\n",
      "F1-Score: 1.0\n",
      "******\n",
      "\n",
      "Iteración: 7\n",
      "Fold accuracy: 0.87\n",
      "Matriz de Confusión:\n",
      " [[5 0 0]\n",
      " [0 4 1]\n",
      " [0 1 4]]\n",
      "\n",
      "Accuracy: 0.8666666666666667\n",
      "Precision: 0.8666666666666667\n",
      "Recall: 0.8666666666666667\n",
      "F1-Score: 0.8666666666666668\n",
      "******\n",
      "\n",
      "Iteración: 8\n",
      "Fold accuracy: 0.93\n",
      "Matriz de Confusión:\n",
      " [[5 0 0]\n",
      " [0 5 0]\n",
      " [0 1 4]]\n",
      "\n",
      "Accuracy: 0.9333333333333333\n",
      "Precision: 0.9444444444444445\n",
      "Recall: 0.9333333333333332\n",
      "F1-Score: 0.9326599326599326\n",
      "******\n",
      "\n",
      "Iteración: 9\n",
      "Fold accuracy: 1.00\n",
      "Matriz de Confusión:\n",
      " [[5 0 0]\n",
      " [0 5 0]\n",
      " [0 0 5]]\n",
      "\n",
      "Accuracy: 1.0\n",
      "Precision: 1.0\n",
      "Recall: 1.0\n",
      "F1-Score: 1.0\n",
      "******\n",
      "\n",
      "Iteración: 10\n",
      "Fold accuracy: 1.00\n",
      "Matriz de Confusión:\n",
      " [[5 0 0]\n",
      " [0 5 0]\n",
      " [0 0 5]]\n",
      "\n",
      "Accuracy: 1.0\n",
      "Precision: 1.0\n",
      "Recall: 1.0\n",
      "F1-Score: 1.0\n",
      "******\n",
      "\n"
     ]
    }
   ],
   "source": [
    "n_iter_i = 0 ## Contador número de iteraciones del Cross-Validation\n",
    "\n",
    "# Evaluamos el modelo usando cross-validation\n",
    "for train_index_i, test_index_i in skf_i.split(X_scaled_iris, y_iris):\n",
    "    \n",
    "    n_iter_i +=1\n",
    "    print('Iteración:',n_iter_i)\n",
    "    \n",
    "    ## División del dataset en entrenamiento y test\n",
    "    X_train_i, X_test_i = X_scaled_iris[train_index_i], X_scaled_iris[test_index_i]\n",
    "    y_train_i, y_test_i = y_iris[train_index_i], y_iris[test_index_i]\n",
    "\n",
    "    ## Entrenar el algoritmo\n",
    "    knn_6_i.fit(X_train_i, y_train_i)\n",
    "    score_i = knn_6_i.score(X_test_i, y_test_i)\n",
    "    print(\"Fold accuracy: {:.2f}\".format(score_i))\n",
    "    \n",
    "    ## Predicción del algoritmo\n",
    "    y_pred_i = knn_6_i.predict(X_test_i)\n",
    "    \n",
    "    ## Métricas de evaluación\n",
    "    cm_i = confusion_matrix(y_test_i, y_pred_i)\n",
    "    accu_i = accuracy_score(y_test_i, y_pred_i)\n",
    "    prec_i = precision_score(y_test_i, y_pred_i, average='macro')\n",
    "    recall_i = recall_score(y_test_i, y_pred_i, average='macro')\n",
    "    f1_i = f1_score(y_test_i, y_pred_i, average='macro')\n",
    "    \n",
    "    ## Guardar resultados métricas de evaluación de cada iteración\n",
    "    cm_list_i.append(cm_i)\n",
    "    accu_list_i.append(accu_i)\n",
    "    prec_list_i.append(prec_i)\n",
    "    recall_list_i.append(recall_i)\n",
    "    f1_list_i.append(f1_i)\n",
    "    \n",
    "    ## Imprimir Métricas de evaluación en cada iteración\n",
    "    print('Matriz de Confusión:\\n',cm_i)\n",
    "    print('')\n",
    "    print('Accuracy:',accu_i)\n",
    "    print('Precision:',prec_i)\n",
    "    print('Recall:',recall_i)\n",
    "    print('F1-Score:',f1_i)\n",
    "    print('******\\n')"
   ]
  },
  {
   "cell_type": "markdown",
   "id": "d4c828f3-ea9f-48ef-85aa-6df0ce030abe",
   "metadata": {},
   "source": [
    "##### Evaluación final del algoritmo KNN\n"
   ]
  },
  {
   "cell_type": "code",
   "execution_count": 33,
   "id": "245d3b0f-bacd-4bb3-802b-0aa93477e52a",
   "metadata": {
    "tags": []
   },
   "outputs": [
    {
     "name": "stdout",
     "output_type": "stream",
     "text": [
      "Matriz de Confusión:\n",
      " [[5 0 0]\n",
      " [0 4 0]\n",
      " [0 0 4]]\n",
      "\n",
      "Accuracy: 0.967\n",
      "Precision: 0.97\n",
      "Recall: 0.967\n",
      "F1-Score: 0.966\n",
      "******\n",
      "\n"
     ]
    }
   ],
   "source": [
    "cm_mean_i = np.mean(cm_list_i, axis=0).astype(int)\n",
    "accu_mean_i = np.mean(accu_list_i, axis=0)\n",
    "prec_mean_i = np.mean(prec_list_i, axis=0)\n",
    "recall_mean_i = np.mean(recall_list_i, axis=0)\n",
    "f1_mean_i = np.mean(f1_list_i, axis=0)\n",
    "\n",
    "print('Matriz de Confusión:\\n',cm_mean_i)\n",
    "print('')\n",
    "print('Accuracy:',np.round(accu_mean_i,3))\n",
    "print('Precision:',np.round(prec_mean_i,3))\n",
    "print('Recall:',np.round(recall_mean_i,3))\n",
    "print('F1-Score:',np.round(f1_mean_i,3))\n",
    "print('******\\n')"
   ]
  },
  {
   "cell_type": "markdown",
   "id": "7b05dce5-48f9-4add-82d1-ac8b4dd4e036",
   "metadata": {},
   "source": [
    "- Para k=6:\n",
    "    - Misma matriz de confusión que para k=2 y k=4.\n",
    "    - Observamos que los valores medios de la accuracy, precision, recall y F1-Score son ligeramente mejores que para k=2 y k=4. Por tanto, el rendimiento del modelo es mejor que para k=2 y k=4. "
   ]
  },
  {
   "cell_type": "markdown",
   "id": "235f452b-9320-4788-b7e6-802c53d23fb7",
   "metadata": {},
   "source": [
    "Conclusiones: \n",
    "\n",
    "- Para k=2, el clasificador alcanzó una accuracy de 0.953, lo que significa que clasificó correctamente el 95,3% de las muestras del conjunto de datos. La precision, el recall y el F1-score se sitúan en torno a 0.95.\n",
    "\n",
    "- Para k=4, la accuracy del clasificador descendió ligeramente a 0.947; la precision, el recall y el F1-score se sitúan en torno a 0.95.\n",
    "\n",
    "- Para k=6, la precisión del clasificador mejoró hasta 0.967; la precision, el recall y el F1-score  se sitúan en torno a 0.97.\n",
    "\n",
    "- En conclusión, con k=6 el modelo funciona mejor según las métricas anteriormente mencionadas debido al mayor número de vecinos considerados. Además, como los valores de k=2,4,6 están próximos entre sí, la diferencia de rendimiento también puede deberse a la variación aleatoria y al ruido de los datos. Por lo tanto, sería interesante probar con valores de k menos próximos entre sí.\n",
    "\n",
    "\n",
    "\n"
   ]
  }
 ],
 "metadata": {
  "kernelspec": {
   "display_name": "Python 3 (ipykernel)",
   "language": "python",
   "name": "python3"
  },
  "language_info": {
   "codemirror_mode": {
    "name": "ipython",
    "version": 3
   },
   "file_extension": ".py",
   "mimetype": "text/x-python",
   "name": "python",
   "nbconvert_exporter": "python",
   "pygments_lexer": "ipython3",
   "version": "3.10.6"
  }
 },
 "nbformat": 4,
 "nbformat_minor": 5
}
